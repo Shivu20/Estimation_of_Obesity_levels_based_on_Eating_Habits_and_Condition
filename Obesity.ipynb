{
 "cells": [
  {
   "cell_type": "code",
   "execution_count": 1,
   "id": "4beb9db9",
   "metadata": {},
   "outputs": [],
   "source": [
    "import pandas as pd\n",
    "import numpy as np\n",
    "import matplotlib.pyplot as plt\n",
    "import seaborn as sns\n",
    "import warnings\n",
    "warnings.filterwarnings(\"ignore\")\n",
    "import statsmodels.api as sm\n",
    "import category_encoders as ce\n",
    "from category_encoders.one_hot import OneHotEncoder, OrdinalEncoder\n",
    "from sklearn.model_selection import train_test_split\n",
    "from sklearn.linear_model import LinearRegression\n",
    "from sklearn.metrics import mean_absolute_error, r2_score\n",
    "from sklearn.model_selection import cross_val_score\n",
    "from importlib import reload\n",
    "from sklearn.preprocessing import StandardScaler\n",
    "from sklearn.model_selection import cross_val_score\n",
    "from sklearn.naive_bayes import GaussianNB\n",
    "from sklearn.linear_model import LogisticRegression\n",
    "from sklearn import tree\n",
    "from sklearn.neighbors import KNeighborsClassifier\n",
    "from sklearn.ensemble import RandomForestClassifier\n",
    "from sklearn.svm import SVC\n",
    "from sklearn.metrics import confusion_matrix\n",
    "from sklearn.cluster import KMeans\n",
    "from sklearn.metrics import silhouette_score\n",
    "import scipy.cluster.hierarchy as sch\n",
    "from sklearn.cluster import AgglomerativeClustering\n",
    "from sklearn.cluster import DBSCAN"
   ]
  },
  {
   "cell_type": "code",
   "execution_count": 2,
   "id": "8e5b7a0f",
   "metadata": {},
   "outputs": [
    {
     "data": {
      "text/html": [
       "<div>\n",
       "<style scoped>\n",
       "    .dataframe tbody tr th:only-of-type {\n",
       "        vertical-align: middle;\n",
       "    }\n",
       "\n",
       "    .dataframe tbody tr th {\n",
       "        vertical-align: top;\n",
       "    }\n",
       "\n",
       "    .dataframe thead th {\n",
       "        text-align: right;\n",
       "    }\n",
       "</style>\n",
       "<table border=\"1\" class=\"dataframe\">\n",
       "  <thead>\n",
       "    <tr style=\"text-align: right;\">\n",
       "      <th></th>\n",
       "      <th>Gender</th>\n",
       "      <th>Age</th>\n",
       "      <th>Height</th>\n",
       "      <th>Weight</th>\n",
       "      <th>family_history_with_overweight</th>\n",
       "      <th>FAVC</th>\n",
       "      <th>FCVC</th>\n",
       "      <th>NCP</th>\n",
       "      <th>CAEC</th>\n",
       "      <th>SMOKE</th>\n",
       "      <th>CH2O</th>\n",
       "      <th>SCC</th>\n",
       "      <th>FAF</th>\n",
       "      <th>TUE</th>\n",
       "      <th>CALC</th>\n",
       "      <th>MTRANS</th>\n",
       "      <th>NObeyesdad</th>\n",
       "    </tr>\n",
       "  </thead>\n",
       "  <tbody>\n",
       "    <tr>\n",
       "      <th>0</th>\n",
       "      <td>Female</td>\n",
       "      <td>21.0</td>\n",
       "      <td>1.62</td>\n",
       "      <td>64.0</td>\n",
       "      <td>yes</td>\n",
       "      <td>no</td>\n",
       "      <td>2.0</td>\n",
       "      <td>3.0</td>\n",
       "      <td>Sometimes</td>\n",
       "      <td>no</td>\n",
       "      <td>2.0</td>\n",
       "      <td>no</td>\n",
       "      <td>0.0</td>\n",
       "      <td>1.0</td>\n",
       "      <td>no</td>\n",
       "      <td>Public_Transportation</td>\n",
       "      <td>Normal_Weight</td>\n",
       "    </tr>\n",
       "    <tr>\n",
       "      <th>1</th>\n",
       "      <td>Female</td>\n",
       "      <td>21.0</td>\n",
       "      <td>1.52</td>\n",
       "      <td>56.0</td>\n",
       "      <td>yes</td>\n",
       "      <td>no</td>\n",
       "      <td>3.0</td>\n",
       "      <td>3.0</td>\n",
       "      <td>Sometimes</td>\n",
       "      <td>yes</td>\n",
       "      <td>3.0</td>\n",
       "      <td>yes</td>\n",
       "      <td>3.0</td>\n",
       "      <td>0.0</td>\n",
       "      <td>Sometimes</td>\n",
       "      <td>Public_Transportation</td>\n",
       "      <td>Normal_Weight</td>\n",
       "    </tr>\n",
       "    <tr>\n",
       "      <th>2</th>\n",
       "      <td>Male</td>\n",
       "      <td>23.0</td>\n",
       "      <td>1.80</td>\n",
       "      <td>77.0</td>\n",
       "      <td>yes</td>\n",
       "      <td>no</td>\n",
       "      <td>2.0</td>\n",
       "      <td>3.0</td>\n",
       "      <td>Sometimes</td>\n",
       "      <td>no</td>\n",
       "      <td>2.0</td>\n",
       "      <td>no</td>\n",
       "      <td>2.0</td>\n",
       "      <td>1.0</td>\n",
       "      <td>Frequently</td>\n",
       "      <td>Public_Transportation</td>\n",
       "      <td>Normal_Weight</td>\n",
       "    </tr>\n",
       "    <tr>\n",
       "      <th>3</th>\n",
       "      <td>Male</td>\n",
       "      <td>27.0</td>\n",
       "      <td>1.80</td>\n",
       "      <td>87.0</td>\n",
       "      <td>no</td>\n",
       "      <td>no</td>\n",
       "      <td>3.0</td>\n",
       "      <td>3.0</td>\n",
       "      <td>Sometimes</td>\n",
       "      <td>no</td>\n",
       "      <td>2.0</td>\n",
       "      <td>no</td>\n",
       "      <td>2.0</td>\n",
       "      <td>0.0</td>\n",
       "      <td>Frequently</td>\n",
       "      <td>Walking</td>\n",
       "      <td>Overweight_Level_I</td>\n",
       "    </tr>\n",
       "    <tr>\n",
       "      <th>4</th>\n",
       "      <td>Male</td>\n",
       "      <td>22.0</td>\n",
       "      <td>1.78</td>\n",
       "      <td>89.8</td>\n",
       "      <td>no</td>\n",
       "      <td>no</td>\n",
       "      <td>2.0</td>\n",
       "      <td>1.0</td>\n",
       "      <td>Sometimes</td>\n",
       "      <td>no</td>\n",
       "      <td>2.0</td>\n",
       "      <td>no</td>\n",
       "      <td>0.0</td>\n",
       "      <td>0.0</td>\n",
       "      <td>Sometimes</td>\n",
       "      <td>Public_Transportation</td>\n",
       "      <td>Overweight_Level_II</td>\n",
       "    </tr>\n",
       "  </tbody>\n",
       "</table>\n",
       "</div>"
      ],
      "text/plain": [
       "   Gender   Age  Height  Weight family_history_with_overweight FAVC  FCVC  \\\n",
       "0  Female  21.0    1.62    64.0                            yes   no   2.0   \n",
       "1  Female  21.0    1.52    56.0                            yes   no   3.0   \n",
       "2    Male  23.0    1.80    77.0                            yes   no   2.0   \n",
       "3    Male  27.0    1.80    87.0                             no   no   3.0   \n",
       "4    Male  22.0    1.78    89.8                             no   no   2.0   \n",
       "\n",
       "   NCP       CAEC SMOKE  CH2O  SCC  FAF  TUE        CALC  \\\n",
       "0  3.0  Sometimes    no   2.0   no  0.0  1.0          no   \n",
       "1  3.0  Sometimes   yes   3.0  yes  3.0  0.0   Sometimes   \n",
       "2  3.0  Sometimes    no   2.0   no  2.0  1.0  Frequently   \n",
       "3  3.0  Sometimes    no   2.0   no  2.0  0.0  Frequently   \n",
       "4  1.0  Sometimes    no   2.0   no  0.0  0.0   Sometimes   \n",
       "\n",
       "                  MTRANS           NObeyesdad  \n",
       "0  Public_Transportation        Normal_Weight  \n",
       "1  Public_Transportation        Normal_Weight  \n",
       "2  Public_Transportation        Normal_Weight  \n",
       "3                Walking   Overweight_Level_I  \n",
       "4  Public_Transportation  Overweight_Level_II  "
      ]
     },
     "execution_count": 2,
     "metadata": {},
     "output_type": "execute_result"
    }
   ],
   "source": [
    "#Load Data\n",
    "data = pd.read_csv('ObesityDataSet_raw_and_data_sinthetic.csv')\n",
    "data.head()"
   ]
  },
  {
   "cell_type": "code",
   "execution_count": 3,
   "id": "1d3250e4",
   "metadata": {},
   "outputs": [
    {
     "data": {
      "text/plain": [
       "Index(['Gender', 'Age', 'Height', 'Weight', 'family_history_with_overweight',\n",
       "       'FAVC', 'FCVC', 'NCP', 'CAEC', 'SMOKE', 'CH2O', 'SCC', 'FAF', 'TUE',\n",
       "       'CALC', 'MTRANS', 'NObeyesdad'],\n",
       "      dtype='object')"
      ]
     },
     "execution_count": 3,
     "metadata": {},
     "output_type": "execute_result"
    }
   ],
   "source": [
    "%matplotlib inline\n",
    "data.columns"
   ]
  },
  {
   "cell_type": "code",
   "execution_count": 4,
   "id": "d2b8626f",
   "metadata": {},
   "outputs": [
    {
     "name": "stdout",
     "output_type": "stream",
     "text": [
      "<class 'pandas.core.frame.DataFrame'>\n",
      "RangeIndex: 2111 entries, 0 to 2110\n",
      "Data columns (total 17 columns):\n",
      " #   Column                          Non-Null Count  Dtype  \n",
      "---  ------                          --------------  -----  \n",
      " 0   Gender                          2111 non-null   object \n",
      " 1   Age                             2111 non-null   float64\n",
      " 2   Height                          2111 non-null   float64\n",
      " 3   Weight                          2111 non-null   float64\n",
      " 4   family_history_with_overweight  2111 non-null   object \n",
      " 5   FAVC                            2111 non-null   object \n",
      " 6   FCVC                            2111 non-null   float64\n",
      " 7   NCP                             2111 non-null   float64\n",
      " 8   CAEC                            2111 non-null   object \n",
      " 9   SMOKE                           2111 non-null   object \n",
      " 10  CH2O                            2111 non-null   float64\n",
      " 11  SCC                             2111 non-null   object \n",
      " 12  FAF                             2111 non-null   float64\n",
      " 13  TUE                             2111 non-null   float64\n",
      " 14  CALC                            2111 non-null   object \n",
      " 15  MTRANS                          2111 non-null   object \n",
      " 16  NObeyesdad                      2111 non-null   object \n",
      "dtypes: float64(8), object(9)\n",
      "memory usage: 280.5+ KB\n"
     ]
    }
   ],
   "source": [
    "data.info()"
   ]
  },
  {
   "cell_type": "code",
   "execution_count": 5,
   "id": "aeee7f17",
   "metadata": {},
   "outputs": [
    {
     "data": {
      "text/html": [
       "<div>\n",
       "<style scoped>\n",
       "    .dataframe tbody tr th:only-of-type {\n",
       "        vertical-align: middle;\n",
       "    }\n",
       "\n",
       "    .dataframe tbody tr th {\n",
       "        vertical-align: top;\n",
       "    }\n",
       "\n",
       "    .dataframe thead th {\n",
       "        text-align: right;\n",
       "    }\n",
       "</style>\n",
       "<table border=\"1\" class=\"dataframe\">\n",
       "  <thead>\n",
       "    <tr style=\"text-align: right;\">\n",
       "      <th></th>\n",
       "      <th>Age</th>\n",
       "      <th>Height</th>\n",
       "      <th>Weight</th>\n",
       "      <th>FCVC</th>\n",
       "      <th>NCP</th>\n",
       "      <th>CH2O</th>\n",
       "      <th>FAF</th>\n",
       "      <th>TUE</th>\n",
       "    </tr>\n",
       "  </thead>\n",
       "  <tbody>\n",
       "    <tr>\n",
       "      <th>count</th>\n",
       "      <td>2111.000000</td>\n",
       "      <td>2111.000000</td>\n",
       "      <td>2111.000000</td>\n",
       "      <td>2111.000000</td>\n",
       "      <td>2111.000000</td>\n",
       "      <td>2111.000000</td>\n",
       "      <td>2111.000000</td>\n",
       "      <td>2111.000000</td>\n",
       "    </tr>\n",
       "    <tr>\n",
       "      <th>mean</th>\n",
       "      <td>24.312600</td>\n",
       "      <td>1.701677</td>\n",
       "      <td>86.586058</td>\n",
       "      <td>2.419043</td>\n",
       "      <td>2.685628</td>\n",
       "      <td>2.008011</td>\n",
       "      <td>1.010298</td>\n",
       "      <td>0.657866</td>\n",
       "    </tr>\n",
       "    <tr>\n",
       "      <th>std</th>\n",
       "      <td>6.345968</td>\n",
       "      <td>0.093305</td>\n",
       "      <td>26.191172</td>\n",
       "      <td>0.533927</td>\n",
       "      <td>0.778039</td>\n",
       "      <td>0.612953</td>\n",
       "      <td>0.850592</td>\n",
       "      <td>0.608927</td>\n",
       "    </tr>\n",
       "    <tr>\n",
       "      <th>min</th>\n",
       "      <td>14.000000</td>\n",
       "      <td>1.450000</td>\n",
       "      <td>39.000000</td>\n",
       "      <td>1.000000</td>\n",
       "      <td>1.000000</td>\n",
       "      <td>1.000000</td>\n",
       "      <td>0.000000</td>\n",
       "      <td>0.000000</td>\n",
       "    </tr>\n",
       "    <tr>\n",
       "      <th>25%</th>\n",
       "      <td>19.947192</td>\n",
       "      <td>1.630000</td>\n",
       "      <td>65.473343</td>\n",
       "      <td>2.000000</td>\n",
       "      <td>2.658738</td>\n",
       "      <td>1.584812</td>\n",
       "      <td>0.124505</td>\n",
       "      <td>0.000000</td>\n",
       "    </tr>\n",
       "    <tr>\n",
       "      <th>50%</th>\n",
       "      <td>22.777890</td>\n",
       "      <td>1.700499</td>\n",
       "      <td>83.000000</td>\n",
       "      <td>2.385502</td>\n",
       "      <td>3.000000</td>\n",
       "      <td>2.000000</td>\n",
       "      <td>1.000000</td>\n",
       "      <td>0.625350</td>\n",
       "    </tr>\n",
       "    <tr>\n",
       "      <th>75%</th>\n",
       "      <td>26.000000</td>\n",
       "      <td>1.768464</td>\n",
       "      <td>107.430682</td>\n",
       "      <td>3.000000</td>\n",
       "      <td>3.000000</td>\n",
       "      <td>2.477420</td>\n",
       "      <td>1.666678</td>\n",
       "      <td>1.000000</td>\n",
       "    </tr>\n",
       "    <tr>\n",
       "      <th>max</th>\n",
       "      <td>61.000000</td>\n",
       "      <td>1.980000</td>\n",
       "      <td>173.000000</td>\n",
       "      <td>3.000000</td>\n",
       "      <td>4.000000</td>\n",
       "      <td>3.000000</td>\n",
       "      <td>3.000000</td>\n",
       "      <td>2.000000</td>\n",
       "    </tr>\n",
       "  </tbody>\n",
       "</table>\n",
       "</div>"
      ],
      "text/plain": [
       "               Age       Height       Weight         FCVC          NCP  \\\n",
       "count  2111.000000  2111.000000  2111.000000  2111.000000  2111.000000   \n",
       "mean     24.312600     1.701677    86.586058     2.419043     2.685628   \n",
       "std       6.345968     0.093305    26.191172     0.533927     0.778039   \n",
       "min      14.000000     1.450000    39.000000     1.000000     1.000000   \n",
       "25%      19.947192     1.630000    65.473343     2.000000     2.658738   \n",
       "50%      22.777890     1.700499    83.000000     2.385502     3.000000   \n",
       "75%      26.000000     1.768464   107.430682     3.000000     3.000000   \n",
       "max      61.000000     1.980000   173.000000     3.000000     4.000000   \n",
       "\n",
       "              CH2O          FAF          TUE  \n",
       "count  2111.000000  2111.000000  2111.000000  \n",
       "mean      2.008011     1.010298     0.657866  \n",
       "std       0.612953     0.850592     0.608927  \n",
       "min       1.000000     0.000000     0.000000  \n",
       "25%       1.584812     0.124505     0.000000  \n",
       "50%       2.000000     1.000000     0.625350  \n",
       "75%       2.477420     1.666678     1.000000  \n",
       "max       3.000000     3.000000     2.000000  "
      ]
     },
     "execution_count": 5,
     "metadata": {},
     "output_type": "execute_result"
    }
   ],
   "source": [
    "data.describe()"
   ]
  },
  {
   "cell_type": "code",
   "execution_count": 6,
   "id": "05d0bef0",
   "metadata": {},
   "outputs": [
    {
     "data": {
      "text/plain": [
       "Index(['Age', 'Height', 'Weight', 'FCVC', 'NCP', 'CH2O', 'FAF', 'TUE'], dtype='object')"
      ]
     },
     "execution_count": 6,
     "metadata": {},
     "output_type": "execute_result"
    }
   ],
   "source": [
    "# Fast way to separate numeric columns\n",
    "data.describe().columns"
   ]
  },
  {
   "cell_type": "code",
   "execution_count": 7,
   "id": "4bd6b850",
   "metadata": {},
   "outputs": [],
   "source": [
    "# Look at numeric and categorical values separately \n",
    "df_num = data[['Age', 'Height', 'Weight']]\n",
    "df_cat = data[['Gender', 'family_history_with_overweight', 'FAVC', 'FCVC', 'NCP', 'CAEC', 'SMOKE', 'CH2O', 'SCC', 'FAF', 'TUE', 'CALC', 'MTRANS', 'NObeyesdad']]"
   ]
  },
  {
   "cell_type": "code",
   "execution_count": 8,
   "id": "9727144e",
   "metadata": {},
   "outputs": [
    {
     "name": "stdout",
     "output_type": "stream",
     "text": [
      "             Age    Height    Weight\n",
      "Age     1.000000 -0.025958  0.202560\n",
      "Height -0.025958  1.000000  0.463136\n",
      "Weight  0.202560  0.463136  1.000000\n"
     ]
    },
    {
     "data": {
      "text/plain": [
       "<AxesSubplot:>"
      ]
     },
     "execution_count": 8,
     "metadata": {},
     "output_type": "execute_result"
    },
    {
     "data": {
      "image/png": "[encoded data removed]",
      "text/plain": [
       "<Figure size 432x288 with 2 Axes>"
      ]
     },
     "metadata": {
      "needs_background": "light"
     },
     "output_type": "display_data"
    }
   ],
   "source": [
    "print(df_num.corr())\n",
    "sns.heatmap(df_num.corr())"
   ]
  },
  {
   "cell_type": "code",
   "execution_count": 9,
   "id": "c8fc9a4e",
   "metadata": {},
   "outputs": [
    {
     "data": {
      "text/html": [
       "<div>\n",
       "<style scoped>\n",
       "    .dataframe tbody tr th:only-of-type {\n",
       "        vertical-align: middle;\n",
       "    }\n",
       "\n",
       "    .dataframe tbody tr th {\n",
       "        vertical-align: top;\n",
       "    }\n",
       "\n",
       "    .dataframe thead th {\n",
       "        text-align: right;\n",
       "    }\n",
       "</style>\n",
       "<table border=\"1\" class=\"dataframe\">\n",
       "  <thead>\n",
       "    <tr style=\"text-align: right;\">\n",
       "      <th></th>\n",
       "      <th>Age</th>\n",
       "      <th>Height</th>\n",
       "      <th>Weight</th>\n",
       "    </tr>\n",
       "    <tr>\n",
       "      <th>NObeyesdad</th>\n",
       "      <th></th>\n",
       "      <th></th>\n",
       "      <th></th>\n",
       "    </tr>\n",
       "  </thead>\n",
       "  <tbody>\n",
       "    <tr>\n",
       "      <th>Insufficient_Weight</th>\n",
       "      <td>19.783237</td>\n",
       "      <td>1.691117</td>\n",
       "      <td>49.906330</td>\n",
       "    </tr>\n",
       "    <tr>\n",
       "      <th>Normal_Weight</th>\n",
       "      <td>21.738676</td>\n",
       "      <td>1.676585</td>\n",
       "      <td>62.155052</td>\n",
       "    </tr>\n",
       "    <tr>\n",
       "      <th>Obesity_Type_I</th>\n",
       "      <td>25.884941</td>\n",
       "      <td>1.693804</td>\n",
       "      <td>92.870198</td>\n",
       "    </tr>\n",
       "    <tr>\n",
       "      <th>Obesity_Type_II</th>\n",
       "      <td>28.233785</td>\n",
       "      <td>1.771795</td>\n",
       "      <td>115.305311</td>\n",
       "    </tr>\n",
       "    <tr>\n",
       "      <th>Obesity_Type_III</th>\n",
       "      <td>23.495554</td>\n",
       "      <td>1.687559</td>\n",
       "      <td>120.941114</td>\n",
       "    </tr>\n",
       "    <tr>\n",
       "      <th>Overweight_Level_I</th>\n",
       "      <td>23.417674</td>\n",
       "      <td>1.687836</td>\n",
       "      <td>74.266828</td>\n",
       "    </tr>\n",
       "    <tr>\n",
       "      <th>Overweight_Level_II</th>\n",
       "      <td>26.996981</td>\n",
       "      <td>1.703748</td>\n",
       "      <td>82.085271</td>\n",
       "    </tr>\n",
       "  </tbody>\n",
       "</table>\n",
       "</div>"
      ],
      "text/plain": [
       "                           Age    Height      Weight\n",
       "NObeyesdad                                          \n",
       "Insufficient_Weight  19.783237  1.691117   49.906330\n",
       "Normal_Weight        21.738676  1.676585   62.155052\n",
       "Obesity_Type_I       25.884941  1.693804   92.870198\n",
       "Obesity_Type_II      28.233785  1.771795  115.305311\n",
       "Obesity_Type_III     23.495554  1.687559  120.941114\n",
       "Overweight_Level_I   23.417674  1.687836   74.266828\n",
       "Overweight_Level_II  26.996981  1.703748   82.085271"
      ]
     },
     "execution_count": 9,
     "metadata": {},
     "output_type": "execute_result"
    }
   ],
   "source": [
    "# Compare NObeyesdad levels across Age, Height, Weight\n",
    "pd.pivot_table(data, index = 'NObeyesdad', values = ['Age','Height','Weight'])"
   ]
  },
  {
   "cell_type": "code",
   "execution_count": 10,
   "id": "7c5cab1a",
   "metadata": {},
   "outputs": [
    {
     "data": {
      "image/png": "[encoded data removed]",
      "text/plain": [
       "<Figure size 936x360 with 1 Axes>"
      ]
     },
     "metadata": {
      "needs_background": "light"
     },
     "output_type": "display_data"
    },
    {
     "data": {
      "image/png": "[encoded data removed]",
      "text/plain": [
       "<Figure size 936x360 with 1 Axes>"
      ]
     },
     "metadata": {
      "needs_background": "light"
     },
     "output_type": "display_data"
    },
    {
     "data": {
      "image/png": "[encoded data removed]",
      "text/plain": [
       "<Figure size 936x360 with 1 Axes>"
      ]
     },
     "metadata": {
      "needs_background": "light"
     },
     "output_type": "display_data"
    },
    {
     "data": {
      "image/png": "[encoded data removed]",
      "text/plain": [
       "<Figure size 936x360 with 1 Axes>"
      ]
     },
     "metadata": {
      "needs_background": "light"
     },
     "output_type": "display_data"
    },
    {
     "data": {
      "image/png": "[encoded data removed]",
      "text/plain": [
       "<Figure size 936x360 with 1 Axes>"
      ]
     },
     "metadata": {
      "needs_background": "light"
     },
     "output_type": "display_data"
    },
    {
     "data": {
      "image/png": "[encoded data removed]",
      "text/plain": [
       "<Figure size 936x360 with 1 Axes>"
      ]
     },
     "metadata": {
      "needs_background": "light"
     },
     "output_type": "display_data"
    },
    {
     "data": {
      "image/png": "[encoded data removed]",
      "text/plain": [
       "<Figure size 936x360 with 1 Axes>"
      ]
     },
     "metadata": {
      "needs_background": "light"
     },
     "output_type": "display_data"
    },
    {
     "data": {
      "image/png": "[encoded data removed]",
      "text/plain": [
       "<Figure size 936x360 with 1 Axes>"
      ]
     },
     "metadata": {
      "needs_background": "light"
     },
     "output_type": "display_data"
    },
    {
     "data": {
      "image/png": "[encoded data removed]",
      "text/plain": [
       "<Figure size 936x360 with 1 Axes>"
      ]
     },
     "metadata": {
      "needs_background": "light"
     },
     "output_type": "display_data"
    },
    {
     "data": {
      "image/png": "[encoded data removed]",
      "text/plain": [
       "<Figure size 936x360 with 1 Axes>"
      ]
     },
     "metadata": {
      "needs_background": "light"
     },
     "output_type": "display_data"
    },
    {
     "data": {
      "image/png": "[encoded data removed]",
      "text/plain": [
       "<Figure size 936x360 with 1 Axes>"
      ]
     },
     "metadata": {
      "needs_background": "light"
     },
     "output_type": "display_data"
    },
    {
     "data": {
      "image/png": "[encoded data removed]",
      "text/plain": [
       "<Figure size 936x360 with 1 Axes>"
      ]
     },
     "metadata": {
      "needs_background": "light"
     },
     "output_type": "display_data"
    },
    {
     "data": {
      "image/png": "[encoded data removed]",
      "text/plain": [
       "<Figure size 936x360 with 1 Axes>"
      ]
     },
     "metadata": {
      "needs_background": "light"
     },
     "output_type": "display_data"
    },
    {
     "data": {
      "image/png": "[encoded data removed]",
      "text/plain": [
       "<Figure size 936x360 with 1 Axes>"
      ]
     },
     "metadata": {
      "needs_background": "light"
     },
     "output_type": "display_data"
    }
   ],
   "source": [
    "# Categorical variables\n",
    "for i in df_cat.columns:\n",
    "    plt.figure(figsize=(13, 5))\n",
    "    sns.barplot(df_cat[i].value_counts().index,df_cat[i].value_counts(), palette=\"Blues_d\").set_title(i)\n",
    "    plt.show()"
   ]
  },
  {
   "cell_type": "code",
   "execution_count": 11,
   "id": "c35cd2c8",
   "metadata": {},
   "outputs": [
    {
     "name": "stdout",
     "output_type": "stream",
     "text": [
      "Gender               Female  Male\n",
      "NObeyesdad                       \n",
      "Insufficient_Weight     173    99\n",
      "Normal_Weight           141   146\n",
      "Obesity_Type_I          156   195\n",
      "Obesity_Type_II           2   295\n",
      "Obesity_Type_III        323     1\n",
      "Overweight_Level_I      145   145\n",
      "Overweight_Level_II     103   187\n",
      "\n",
      "family_history_with_overweight     no    yes\n",
      "NObeyesdad                                  \n",
      "Insufficient_Weight             146.0  126.0\n",
      "Normal_Weight                   132.0  155.0\n",
      "Obesity_Type_I                    7.0  344.0\n",
      "Obesity_Type_II                   1.0  296.0\n",
      "Obesity_Type_III                  NaN  324.0\n",
      "Overweight_Level_I               81.0  209.0\n",
      "Overweight_Level_II              18.0  272.0\n",
      "\n",
      "FAVC                 no  yes\n",
      "NObeyesdad                  \n",
      "Insufficient_Weight  51  221\n",
      "Normal_Weight        79  208\n",
      "Obesity_Type_I       11  340\n",
      "Obesity_Type_II       7  290\n",
      "Obesity_Type_III      1  323\n",
      "Overweight_Level_I   22  268\n",
      "Overweight_Level_II  74  216\n",
      "\n",
      "CAEC                 Always  Frequently  Sometimes    no\n",
      "NObeyesdad                                              \n",
      "Insufficient_Weight     2.0       121.0      146.0   3.0\n",
      "Normal_Weight          35.0        83.0      159.0  10.0\n",
      "Obesity_Type_I          6.0         6.0      338.0   1.0\n",
      "Obesity_Type_II         2.0         1.0      293.0   1.0\n",
      "Obesity_Type_III        NaN         1.0      323.0   NaN\n",
      "Overweight_Level_I      5.0        14.0      236.0  35.0\n",
      "Overweight_Level_II     3.0        16.0      270.0   1.0\n",
      "\n",
      "SMOKE                 no  yes\n",
      "NObeyesdad                   \n",
      "Insufficient_Weight  271    1\n",
      "Normal_Weight        274   13\n",
      "Obesity_Type_I       345    6\n",
      "Obesity_Type_II      282   15\n",
      "Obesity_Type_III     323    1\n",
      "Overweight_Level_I   287    3\n",
      "Overweight_Level_II  285    5\n",
      "\n",
      "SCC                     no   yes\n",
      "NObeyesdad                      \n",
      "Insufficient_Weight  250.0  22.0\n",
      "Normal_Weight        257.0  30.0\n",
      "Obesity_Type_I       349.0   2.0\n",
      "Obesity_Type_II      296.0   1.0\n",
      "Obesity_Type_III     324.0   NaN\n",
      "Overweight_Level_I   253.0  37.0\n",
      "Overweight_Level_II  286.0   4.0\n",
      "\n",
      "CALC                 Always  Frequently  Sometimes     no\n",
      "NObeyesdad                                               \n",
      "Insufficient_Weight     NaN         1.0      154.0  117.0\n",
      "Normal_Weight           1.0        18.0      161.0  107.0\n",
      "Obesity_Type_I          NaN        14.0      172.0  165.0\n",
      "Obesity_Type_II         NaN         2.0      224.0   71.0\n",
      "Obesity_Type_III        NaN         NaN      323.0    1.0\n",
      "Overweight_Level_I      NaN        16.0      224.0   50.0\n",
      "Overweight_Level_II     NaN        19.0      143.0  128.0\n",
      "\n",
      "MTRANS               Automobile  Bike  Motorbike  Public_Transportation  \\\n",
      "NObeyesdad                                                                \n",
      "Insufficient_Weight        46.0   NaN        NaN                  220.0   \n",
      "Normal_Weight              45.0   4.0        6.0                  200.0   \n",
      "Obesity_Type_I            110.0   NaN        3.0                  236.0   \n",
      "Obesity_Type_II            95.0   1.0        NaN                  200.0   \n",
      "Obesity_Type_III            1.0   NaN        NaN                  323.0   \n",
      "Overweight_Level_I         66.0   2.0        1.0                  212.0   \n",
      "Overweight_Level_II        94.0   NaN        1.0                  189.0   \n",
      "\n",
      "MTRANS               Walking  \n",
      "NObeyesdad                    \n",
      "Insufficient_Weight      6.0  \n",
      "Normal_Weight           32.0  \n",
      "Obesity_Type_I           2.0  \n",
      "Obesity_Type_II          1.0  \n",
      "Obesity_Type_III         NaN  \n",
      "Overweight_Level_I       9.0  \n",
      "Overweight_Level_II      6.0  \n"
     ]
    }
   ],
   "source": [
    "# Comparing NObeyesdad and each of these categorical variables \n",
    "print(pd.pivot_table(data, index = 'NObeyesdad', columns = 'Gender', values = 'FAF' ,aggfunc ='count'))\n",
    "print()\n",
    "print(pd.pivot_table(data, index = 'NObeyesdad', columns = 'family_history_with_overweight', values = 'FAF' ,aggfunc ='count'))\n",
    "print()\n",
    "print(pd.pivot_table(data, index = 'NObeyesdad', columns = 'FAVC', values = 'FAF' ,aggfunc ='count'))\n",
    "print()\n",
    "print(pd.pivot_table(data, index = 'NObeyesdad', columns = 'CAEC', values = 'FAF' ,aggfunc ='count'))\n",
    "print()\n",
    "print(pd.pivot_table(data, index = 'NObeyesdad', columns = 'SMOKE', values = 'FAF' ,aggfunc ='count'))\n",
    "print()\n",
    "print(pd.pivot_table(data, index = 'NObeyesdad', columns = 'SCC', values = 'FAF' ,aggfunc ='count'))\n",
    "print()\n",
    "print(pd.pivot_table(data, index = 'NObeyesdad', columns = 'CALC', values = 'FAF' ,aggfunc ='count'))\n",
    "print()\n",
    "print(pd.pivot_table(data, index = 'NObeyesdad', columns = 'MTRANS', values = 'FAF' ,aggfunc ='count'))"
   ]
  },
  {
   "cell_type": "code",
   "execution_count": 12,
   "id": "bfc20255",
   "metadata": {},
   "outputs": [],
   "source": [
    "df = data.copy()"
   ]
  },
  {
   "cell_type": "code",
   "execution_count": 13,
   "id": "9bf2d40c",
   "metadata": {},
   "outputs": [],
   "source": [
    "df['Age'] = df['Age'].apply(lambda age : round(age)) \n",
    "df['Height'] = df['Height'].apply(lambda height : round(height, 2)) \n",
    "df['Weight'] = df['Weight'].apply(lambda weight : round(weight)) \n",
    "df['FCVC'] = data['FCVC'].apply(lambda fcvc : round(fcvc)) \n",
    "df['NCP'] = df['NCP'].apply(lambda ncp : round(ncp)) \n",
    "df['CH2O'] = df['CH2O'].apply(lambda ch2o : round(ch2o)) \n",
    "df['FAF'] = df['FAF'].apply(lambda faf : round(faf)) \n",
    "df['TUE'] = df['TUE'].apply(lambda tue : round(tue))"
   ]
  },
  {
   "cell_type": "code",
   "execution_count": 14,
   "id": "3bf40870",
   "metadata": {},
   "outputs": [
    {
     "data": {
      "text/html": [
       "<div>\n",
       "<style scoped>\n",
       "    .dataframe tbody tr th:only-of-type {\n",
       "        vertical-align: middle;\n",
       "    }\n",
       "\n",
       "    .dataframe tbody tr th {\n",
       "        vertical-align: top;\n",
       "    }\n",
       "\n",
       "    .dataframe thead th {\n",
       "        text-align: right;\n",
       "    }\n",
       "</style>\n",
       "<table border=\"1\" class=\"dataframe\">\n",
       "  <thead>\n",
       "    <tr style=\"text-align: right;\">\n",
       "      <th></th>\n",
       "      <th>Gender</th>\n",
       "      <th>Age</th>\n",
       "      <th>Height</th>\n",
       "      <th>Weight</th>\n",
       "      <th>family_history_with_overweight</th>\n",
       "      <th>FAVC</th>\n",
       "      <th>FCVC</th>\n",
       "      <th>NCP</th>\n",
       "      <th>CAEC</th>\n",
       "      <th>SMOKE</th>\n",
       "      <th>CH2O</th>\n",
       "      <th>SCC</th>\n",
       "      <th>FAF</th>\n",
       "      <th>TUE</th>\n",
       "      <th>CALC</th>\n",
       "      <th>MTRANS</th>\n",
       "      <th>NObeyesdad</th>\n",
       "    </tr>\n",
       "  </thead>\n",
       "  <tbody>\n",
       "    <tr>\n",
       "      <th>0</th>\n",
       "      <td>Female</td>\n",
       "      <td>21</td>\n",
       "      <td>1.62</td>\n",
       "      <td>64</td>\n",
       "      <td>yes</td>\n",
       "      <td>no</td>\n",
       "      <td>2</td>\n",
       "      <td>3</td>\n",
       "      <td>Sometimes</td>\n",
       "      <td>no</td>\n",
       "      <td>2</td>\n",
       "      <td>no</td>\n",
       "      <td>0</td>\n",
       "      <td>1</td>\n",
       "      <td>no</td>\n",
       "      <td>Public_Transportation</td>\n",
       "      <td>Normal_Weight</td>\n",
       "    </tr>\n",
       "    <tr>\n",
       "      <th>1</th>\n",
       "      <td>Female</td>\n",
       "      <td>21</td>\n",
       "      <td>1.52</td>\n",
       "      <td>56</td>\n",
       "      <td>yes</td>\n",
       "      <td>no</td>\n",
       "      <td>3</td>\n",
       "      <td>3</td>\n",
       "      <td>Sometimes</td>\n",
       "      <td>yes</td>\n",
       "      <td>3</td>\n",
       "      <td>yes</td>\n",
       "      <td>3</td>\n",
       "      <td>0</td>\n",
       "      <td>Sometimes</td>\n",
       "      <td>Public_Transportation</td>\n",
       "      <td>Normal_Weight</td>\n",
       "    </tr>\n",
       "    <tr>\n",
       "      <th>2</th>\n",
       "      <td>Male</td>\n",
       "      <td>23</td>\n",
       "      <td>1.80</td>\n",
       "      <td>77</td>\n",
       "      <td>yes</td>\n",
       "      <td>no</td>\n",
       "      <td>2</td>\n",
       "      <td>3</td>\n",
       "      <td>Sometimes</td>\n",
       "      <td>no</td>\n",
       "      <td>2</td>\n",
       "      <td>no</td>\n",
       "      <td>2</td>\n",
       "      <td>1</td>\n",
       "      <td>Frequently</td>\n",
       "      <td>Public_Transportation</td>\n",
       "      <td>Normal_Weight</td>\n",
       "    </tr>\n",
       "    <tr>\n",
       "      <th>3</th>\n",
       "      <td>Male</td>\n",
       "      <td>27</td>\n",
       "      <td>1.80</td>\n",
       "      <td>87</td>\n",
       "      <td>no</td>\n",
       "      <td>no</td>\n",
       "      <td>3</td>\n",
       "      <td>3</td>\n",
       "      <td>Sometimes</td>\n",
       "      <td>no</td>\n",
       "      <td>2</td>\n",
       "      <td>no</td>\n",
       "      <td>2</td>\n",
       "      <td>0</td>\n",
       "      <td>Frequently</td>\n",
       "      <td>Walking</td>\n",
       "      <td>Overweight_Level_I</td>\n",
       "    </tr>\n",
       "    <tr>\n",
       "      <th>4</th>\n",
       "      <td>Male</td>\n",
       "      <td>22</td>\n",
       "      <td>1.78</td>\n",
       "      <td>90</td>\n",
       "      <td>no</td>\n",
       "      <td>no</td>\n",
       "      <td>2</td>\n",
       "      <td>1</td>\n",
       "      <td>Sometimes</td>\n",
       "      <td>no</td>\n",
       "      <td>2</td>\n",
       "      <td>no</td>\n",
       "      <td>0</td>\n",
       "      <td>0</td>\n",
       "      <td>Sometimes</td>\n",
       "      <td>Public_Transportation</td>\n",
       "      <td>Overweight_Level_II</td>\n",
       "    </tr>\n",
       "    <tr>\n",
       "      <th>...</th>\n",
       "      <td>...</td>\n",
       "      <td>...</td>\n",
       "      <td>...</td>\n",
       "      <td>...</td>\n",
       "      <td>...</td>\n",
       "      <td>...</td>\n",
       "      <td>...</td>\n",
       "      <td>...</td>\n",
       "      <td>...</td>\n",
       "      <td>...</td>\n",
       "      <td>...</td>\n",
       "      <td>...</td>\n",
       "      <td>...</td>\n",
       "      <td>...</td>\n",
       "      <td>...</td>\n",
       "      <td>...</td>\n",
       "      <td>...</td>\n",
       "    </tr>\n",
       "    <tr>\n",
       "      <th>2106</th>\n",
       "      <td>Female</td>\n",
       "      <td>21</td>\n",
       "      <td>1.71</td>\n",
       "      <td>131</td>\n",
       "      <td>yes</td>\n",
       "      <td>yes</td>\n",
       "      <td>3</td>\n",
       "      <td>3</td>\n",
       "      <td>Sometimes</td>\n",
       "      <td>no</td>\n",
       "      <td>2</td>\n",
       "      <td>no</td>\n",
       "      <td>2</td>\n",
       "      <td>1</td>\n",
       "      <td>Sometimes</td>\n",
       "      <td>Public_Transportation</td>\n",
       "      <td>Obesity_Type_III</td>\n",
       "    </tr>\n",
       "    <tr>\n",
       "      <th>2107</th>\n",
       "      <td>Female</td>\n",
       "      <td>22</td>\n",
       "      <td>1.75</td>\n",
       "      <td>134</td>\n",
       "      <td>yes</td>\n",
       "      <td>yes</td>\n",
       "      <td>3</td>\n",
       "      <td>3</td>\n",
       "      <td>Sometimes</td>\n",
       "      <td>no</td>\n",
       "      <td>2</td>\n",
       "      <td>no</td>\n",
       "      <td>1</td>\n",
       "      <td>1</td>\n",
       "      <td>Sometimes</td>\n",
       "      <td>Public_Transportation</td>\n",
       "      <td>Obesity_Type_III</td>\n",
       "    </tr>\n",
       "    <tr>\n",
       "      <th>2108</th>\n",
       "      <td>Female</td>\n",
       "      <td>23</td>\n",
       "      <td>1.75</td>\n",
       "      <td>134</td>\n",
       "      <td>yes</td>\n",
       "      <td>yes</td>\n",
       "      <td>3</td>\n",
       "      <td>3</td>\n",
       "      <td>Sometimes</td>\n",
       "      <td>no</td>\n",
       "      <td>2</td>\n",
       "      <td>no</td>\n",
       "      <td>1</td>\n",
       "      <td>1</td>\n",
       "      <td>Sometimes</td>\n",
       "      <td>Public_Transportation</td>\n",
       "      <td>Obesity_Type_III</td>\n",
       "    </tr>\n",
       "    <tr>\n",
       "      <th>2109</th>\n",
       "      <td>Female</td>\n",
       "      <td>24</td>\n",
       "      <td>1.74</td>\n",
       "      <td>133</td>\n",
       "      <td>yes</td>\n",
       "      <td>yes</td>\n",
       "      <td>3</td>\n",
       "      <td>3</td>\n",
       "      <td>Sometimes</td>\n",
       "      <td>no</td>\n",
       "      <td>3</td>\n",
       "      <td>no</td>\n",
       "      <td>1</td>\n",
       "      <td>1</td>\n",
       "      <td>Sometimes</td>\n",
       "      <td>Public_Transportation</td>\n",
       "      <td>Obesity_Type_III</td>\n",
       "    </tr>\n",
       "    <tr>\n",
       "      <th>2110</th>\n",
       "      <td>Female</td>\n",
       "      <td>24</td>\n",
       "      <td>1.74</td>\n",
       "      <td>133</td>\n",
       "      <td>yes</td>\n",
       "      <td>yes</td>\n",
       "      <td>3</td>\n",
       "      <td>3</td>\n",
       "      <td>Sometimes</td>\n",
       "      <td>no</td>\n",
       "      <td>3</td>\n",
       "      <td>no</td>\n",
       "      <td>1</td>\n",
       "      <td>1</td>\n",
       "      <td>Sometimes</td>\n",
       "      <td>Public_Transportation</td>\n",
       "      <td>Obesity_Type_III</td>\n",
       "    </tr>\n",
       "  </tbody>\n",
       "</table>\n",
       "<p>2111 rows × 17 columns</p>\n",
       "</div>"
      ],
      "text/plain": [
       "      Gender  Age  Height  Weight family_history_with_overweight FAVC  FCVC  \\\n",
       "0     Female   21    1.62      64                            yes   no     2   \n",
       "1     Female   21    1.52      56                            yes   no     3   \n",
       "2       Male   23    1.80      77                            yes   no     2   \n",
       "3       Male   27    1.80      87                             no   no     3   \n",
       "4       Male   22    1.78      90                             no   no     2   \n",
       "...      ...  ...     ...     ...                            ...  ...   ...   \n",
       "2106  Female   21    1.71     131                            yes  yes     3   \n",
       "2107  Female   22    1.75     134                            yes  yes     3   \n",
       "2108  Female   23    1.75     134                            yes  yes     3   \n",
       "2109  Female   24    1.74     133                            yes  yes     3   \n",
       "2110  Female   24    1.74     133                            yes  yes     3   \n",
       "\n",
       "      NCP       CAEC SMOKE  CH2O  SCC  FAF  TUE        CALC  \\\n",
       "0       3  Sometimes    no     2   no    0    1          no   \n",
       "1       3  Sometimes   yes     3  yes    3    0   Sometimes   \n",
       "2       3  Sometimes    no     2   no    2    1  Frequently   \n",
       "3       3  Sometimes    no     2   no    2    0  Frequently   \n",
       "4       1  Sometimes    no     2   no    0    0   Sometimes   \n",
       "...   ...        ...   ...   ...  ...  ...  ...         ...   \n",
       "2106    3  Sometimes    no     2   no    2    1   Sometimes   \n",
       "2107    3  Sometimes    no     2   no    1    1   Sometimes   \n",
       "2108    3  Sometimes    no     2   no    1    1   Sometimes   \n",
       "2109    3  Sometimes    no     3   no    1    1   Sometimes   \n",
       "2110    3  Sometimes    no     3   no    1    1   Sometimes   \n",
       "\n",
       "                     MTRANS           NObeyesdad  \n",
       "0     Public_Transportation        Normal_Weight  \n",
       "1     Public_Transportation        Normal_Weight  \n",
       "2     Public_Transportation        Normal_Weight  \n",
       "3                   Walking   Overweight_Level_I  \n",
       "4     Public_Transportation  Overweight_Level_II  \n",
       "...                     ...                  ...  \n",
       "2106  Public_Transportation     Obesity_Type_III  \n",
       "2107  Public_Transportation     Obesity_Type_III  \n",
       "2108  Public_Transportation     Obesity_Type_III  \n",
       "2109  Public_Transportation     Obesity_Type_III  \n",
       "2110  Public_Transportation     Obesity_Type_III  \n",
       "\n",
       "[2111 rows x 17 columns]"
      ]
     },
     "execution_count": 14,
     "metadata": {},
     "output_type": "execute_result"
    }
   ],
   "source": [
    "df"
   ]
  },
  {
   "cell_type": "markdown",
   "id": "d9a1f402",
   "metadata": {},
   "source": [
    "# Data Visualization"
   ]
  },
  {
   "cell_type": "code",
   "execution_count": 15,
   "id": "e2af3c87",
   "metadata": {},
   "outputs": [
    {
     "data": {
      "text/plain": [
       "<AxesSubplot:xlabel='NObeyesdad', ylabel='count'>"
      ]
     },
     "execution_count": 15,
     "metadata": {},
     "output_type": "execute_result"
    },
    {
     "data": {
      "image/png": "[encoded data removed]",
      "text/plain": [
       "<Figure size 936x360 with 1 Axes>"
      ]
     },
     "metadata": {
      "needs_background": "light"
     },
     "output_type": "display_data"
    }
   ],
   "source": [
    "plt.figure(figsize=(13,5)) \n",
    "sns.countplot(x='NObeyesdad', hue='Gender', data=df, palette='mako')"
   ]
  },
  {
   "cell_type": "code",
   "execution_count": 16,
   "id": "cb0a3e5e",
   "metadata": {},
   "outputs": [
    {
     "data": {
      "text/plain": [
       "<AxesSubplot:xlabel='NObeyesdad', ylabel='count'>"
      ]
     },
     "execution_count": 16,
     "metadata": {},
     "output_type": "execute_result"
    },
    {
     "data": {
      "image/png": "[encoded data removed]",
      "text/plain": [
       "<Figure size 936x360 with 1 Axes>"
      ]
     },
     "metadata": {
      "needs_background": "light"
     },
     "output_type": "display_data"
    }
   ],
   "source": [
    "plt.figure(figsize=(13,5)) \n",
    "sns.countplot(x='NObeyesdad', hue='family_history_with_overweight', data=df, palette='mako')"
   ]
  },
  {
   "cell_type": "code",
   "execution_count": 17,
   "id": "56ee0524",
   "metadata": {},
   "outputs": [
    {
     "data": {
      "text/plain": [
       "<AxesSubplot:xlabel='NObeyesdad', ylabel='count'>"
      ]
     },
     "execution_count": 17,
     "metadata": {},
     "output_type": "execute_result"
    },
    {
     "data": {
      "image/png": "[encoded data removed]",
      "text/plain": [
       "<Figure size 936x360 with 1 Axes>"
      ]
     },
     "metadata": {
      "needs_background": "light"
     },
     "output_type": "display_data"
    }
   ],
   "source": [
    "# Do you eat high caloric food frequently?\n",
    "plt.figure(figsize=(13,5)) \n",
    "sns.countplot(x='NObeyesdad', hue='FAVC', data=df, palette='mako')"
   ]
  },
  {
   "cell_type": "code",
   "execution_count": 18,
   "id": "6195d9eb",
   "metadata": {},
   "outputs": [
    {
     "data": {
      "text/plain": [
       "<AxesSubplot:xlabel='NObeyesdad', ylabel='count'>"
      ]
     },
     "execution_count": 18,
     "metadata": {},
     "output_type": "execute_result"
    },
    {
     "data": {
      "image/png": "[encoded data removed]",
      "text/plain": [
       "<Figure size 936x360 with 1 Axes>"
      ]
     },
     "metadata": {
      "needs_background": "light"
     },
     "output_type": "display_data"
    }
   ],
   "source": [
    "# How many main meals do you have daily?\n",
    "plt.figure(figsize=(13,5))\n",
    "sns.countplot(x='NObeyesdad', hue='NCP', data=df, palette='mako')"
   ]
  },
  {
   "cell_type": "code",
   "execution_count": 19,
   "id": "2a04a252",
   "metadata": {},
   "outputs": [
    {
     "data": {
      "text/plain": [
       "<AxesSubplot:xlabel='NObeyesdad', ylabel='count'>"
      ]
     },
     "execution_count": 19,
     "metadata": {},
     "output_type": "execute_result"
    },
    {
     "data": {
      "image/png": "[encoded data removed]",
      "text/plain": [
       "<Figure size 936x360 with 1 Axes>"
      ]
     },
     "metadata": {
      "needs_background": "light"
     },
     "output_type": "display_data"
    }
   ],
   "source": [
    "plt.figure(figsize=(13,5))\n",
    "sns.countplot(x='NObeyesdad', hue='CH2O', data=df, palette='mako')"
   ]
  },
  {
   "cell_type": "code",
   "execution_count": 20,
   "id": "3756c3a6",
   "metadata": {},
   "outputs": [
    {
     "data": {
      "text/plain": [
       "<AxesSubplot:xlabel='NObeyesdad', ylabel='count'>"
      ]
     },
     "execution_count": 20,
     "metadata": {},
     "output_type": "execute_result"
    },
    {
     "data": {
      "image/png": "[encoded data removed]",
      "text/plain": [
       "<Figure size 936x360 with 1 Axes>"
      ]
     },
     "metadata": {
      "needs_background": "light"
     },
     "output_type": "display_data"
    }
   ],
   "source": [
    "plt.figure(figsize=(13,5))\n",
    "sns.countplot(x='NObeyesdad', hue='MTRANS', data=df, palette='mako')"
   ]
  },
  {
   "cell_type": "code",
   "execution_count": 21,
   "id": "ac1457c0",
   "metadata": {},
   "outputs": [
    {
     "data": {
      "image/png": "[encoded data removed]",
      "text/plain": [
       "<Figure size 576x288 with 3 Axes>"
      ]
     },
     "metadata": {
      "needs_background": "light"
     },
     "output_type": "display_data"
    }
   ],
   "source": [
    "# Outliers Detection\n",
    "\n",
    "plt.figure(figsize=(8,4))\n",
    "\n",
    "for i, col in enumerate(list(df_num.columns.values)):\n",
    "    plt.subplot(1,3,i+1)\n",
    "    df_num.boxplot(col)\n",
    "    plt.grid()\n",
    "    plt.tight_layout()"
   ]
  },
  {
   "cell_type": "code",
   "execution_count": 22,
   "id": "5d0199dc",
   "metadata": {},
   "outputs": [],
   "source": [
    "data_outliers = df.copy()\n",
    "data_outliers = data_outliers[['Age', 'Height', 'Weight']]"
   ]
  },
  {
   "cell_type": "code",
   "execution_count": 23,
   "id": "a8aa2390",
   "metadata": {},
   "outputs": [],
   "source": [
    "# Check outliers with Z-score: Age column\n",
    "outliers = []\n",
    "\n",
    "def find_outliers_age(data):\n",
    "    cut_std = 3\n",
    "    mean = np.mean(data_outliers['Age'])\n",
    "    std = np.std(data_outliers['Age'])\n",
    "\n",
    "    for dataframe in data:\n",
    "\n",
    "        z_score = (dataframe - mean)/std\n",
    "        if np.abs(z_score)>=cut_std:\n",
    "            outliers.append(dataframe)\n",
    "\n",
    "    return outliers"
   ]
  },
  {
   "cell_type": "code",
   "execution_count": 24,
   "id": "9345aae8",
   "metadata": {},
   "outputs": [
    {
     "data": {
      "text/plain": [
       "[52,\n",
       " 55,\n",
       " 61,\n",
       " 44,\n",
       " 55,\n",
       " 45,\n",
       " 51,\n",
       " 56,\n",
       " 45,\n",
       " 55,\n",
       " 51,\n",
       " 45,\n",
       " 55,\n",
       " 46,\n",
       " 55,\n",
       " 48,\n",
       " 46,\n",
       " 44,\n",
       " 44,\n",
       " 47,\n",
       " 44,\n",
       " 44,\n",
       " 44]"
      ]
     },
     "execution_count": 24,
     "metadata": {},
     "output_type": "execute_result"
    }
   ],
   "source": [
    "outliers = find_outliers_age(data_outliers['Age'])\n",
    "outliers"
   ]
  },
  {
   "cell_type": "code",
   "execution_count": 25,
   "id": "68cd7f68",
   "metadata": {},
   "outputs": [],
   "source": [
    "# Check outliers with Z-score: Weight column\n",
    "outliers = []\n",
    "\n",
    "def find_outliers_weight(data):\n",
    "    cut_std = 3\n",
    "    mean = np.mean(data_outliers['Weight'])\n",
    "    std = np.std(data_outliers['Weight'])\n",
    "\n",
    "    for dataframe in data:\n",
    "\n",
    "        z_score = (dataframe - mean)/std\n",
    "        if np.abs(z_score)>=cut_std:\n",
    "            outliers.append(dataframe)\n",
    "\n",
    "    return outliers"
   ]
  },
  {
   "cell_type": "code",
   "execution_count": 26,
   "id": "9e991942",
   "metadata": {},
   "outputs": [
    {
     "data": {
      "text/plain": [
       "[173]"
      ]
     },
     "execution_count": 26,
     "metadata": {},
     "output_type": "execute_result"
    }
   ],
   "source": [
    "outliers = find_outliers_weight(data_outliers['Weight'])\n",
    "outliers"
   ]
  },
  {
   "cell_type": "code",
   "execution_count": 27,
   "id": "e7d02c3e",
   "metadata": {},
   "outputs": [
    {
     "name": "stdout",
     "output_type": "stream",
     "text": [
      "Percentil 75 - Age column:  26.0\n",
      "Percentil 50 (median) - Age column:  23.0\n"
     ]
    }
   ],
   "source": [
    "# Check outliers with Interquartile Range\n",
    "# Percentile: Age column\n",
    "\n",
    "p75, p50 = np.percentile(data_outliers['Age'],[75,50])\n",
    "print('Percentil 75 - Age column: ', p75)\n",
    "print('Percentil 50 (median) - Age column: ', p50)"
   ]
  },
  {
   "cell_type": "code",
   "execution_count": 28,
   "id": "f4fc3f35",
   "metadata": {},
   "outputs": [
    {
     "data": {
      "text/html": [
       "<div>\n",
       "<style scoped>\n",
       "    .dataframe tbody tr th:only-of-type {\n",
       "        vertical-align: middle;\n",
       "    }\n",
       "\n",
       "    .dataframe tbody tr th {\n",
       "        vertical-align: top;\n",
       "    }\n",
       "\n",
       "    .dataframe thead th {\n",
       "        text-align: right;\n",
       "    }\n",
       "</style>\n",
       "<table border=\"1\" class=\"dataframe\">\n",
       "  <thead>\n",
       "    <tr style=\"text-align: right;\">\n",
       "      <th></th>\n",
       "      <th>Gender</th>\n",
       "      <th>Age</th>\n",
       "      <th>Height</th>\n",
       "      <th>Weight</th>\n",
       "      <th>family_history_with_overweight</th>\n",
       "      <th>FAVC</th>\n",
       "      <th>FCVC</th>\n",
       "      <th>NCP</th>\n",
       "      <th>CAEC</th>\n",
       "      <th>SMOKE</th>\n",
       "      <th>CH2O</th>\n",
       "      <th>SCC</th>\n",
       "      <th>FAF</th>\n",
       "      <th>TUE</th>\n",
       "      <th>CALC</th>\n",
       "      <th>MTRANS</th>\n",
       "      <th>NObeyesdad</th>\n",
       "    </tr>\n",
       "  </thead>\n",
       "  <tbody>\n",
       "    <tr>\n",
       "      <th>0</th>\n",
       "      <td>Female</td>\n",
       "      <td>21</td>\n",
       "      <td>1.62</td>\n",
       "      <td>64</td>\n",
       "      <td>yes</td>\n",
       "      <td>no</td>\n",
       "      <td>2</td>\n",
       "      <td>3</td>\n",
       "      <td>Sometimes</td>\n",
       "      <td>no</td>\n",
       "      <td>2</td>\n",
       "      <td>no</td>\n",
       "      <td>0</td>\n",
       "      <td>1</td>\n",
       "      <td>no</td>\n",
       "      <td>Public_Transportation</td>\n",
       "      <td>Normal_Weight</td>\n",
       "    </tr>\n",
       "    <tr>\n",
       "      <th>1</th>\n",
       "      <td>Female</td>\n",
       "      <td>21</td>\n",
       "      <td>1.52</td>\n",
       "      <td>56</td>\n",
       "      <td>yes</td>\n",
       "      <td>no</td>\n",
       "      <td>3</td>\n",
       "      <td>3</td>\n",
       "      <td>Sometimes</td>\n",
       "      <td>yes</td>\n",
       "      <td>3</td>\n",
       "      <td>yes</td>\n",
       "      <td>3</td>\n",
       "      <td>0</td>\n",
       "      <td>Sometimes</td>\n",
       "      <td>Public_Transportation</td>\n",
       "      <td>Normal_Weight</td>\n",
       "    </tr>\n",
       "    <tr>\n",
       "      <th>2</th>\n",
       "      <td>Male</td>\n",
       "      <td>23</td>\n",
       "      <td>1.80</td>\n",
       "      <td>77</td>\n",
       "      <td>yes</td>\n",
       "      <td>no</td>\n",
       "      <td>2</td>\n",
       "      <td>3</td>\n",
       "      <td>Sometimes</td>\n",
       "      <td>no</td>\n",
       "      <td>2</td>\n",
       "      <td>no</td>\n",
       "      <td>2</td>\n",
       "      <td>1</td>\n",
       "      <td>Frequently</td>\n",
       "      <td>Public_Transportation</td>\n",
       "      <td>Normal_Weight</td>\n",
       "    </tr>\n",
       "    <tr>\n",
       "      <th>3</th>\n",
       "      <td>Male</td>\n",
       "      <td>27</td>\n",
       "      <td>1.80</td>\n",
       "      <td>87</td>\n",
       "      <td>no</td>\n",
       "      <td>no</td>\n",
       "      <td>3</td>\n",
       "      <td>3</td>\n",
       "      <td>Sometimes</td>\n",
       "      <td>no</td>\n",
       "      <td>2</td>\n",
       "      <td>no</td>\n",
       "      <td>2</td>\n",
       "      <td>0</td>\n",
       "      <td>Frequently</td>\n",
       "      <td>Walking</td>\n",
       "      <td>Overweight_Level_I</td>\n",
       "    </tr>\n",
       "    <tr>\n",
       "      <th>4</th>\n",
       "      <td>Male</td>\n",
       "      <td>22</td>\n",
       "      <td>1.78</td>\n",
       "      <td>90</td>\n",
       "      <td>no</td>\n",
       "      <td>no</td>\n",
       "      <td>2</td>\n",
       "      <td>1</td>\n",
       "      <td>Sometimes</td>\n",
       "      <td>no</td>\n",
       "      <td>2</td>\n",
       "      <td>no</td>\n",
       "      <td>0</td>\n",
       "      <td>0</td>\n",
       "      <td>Sometimes</td>\n",
       "      <td>Public_Transportation</td>\n",
       "      <td>Overweight_Level_II</td>\n",
       "    </tr>\n",
       "    <tr>\n",
       "      <th>...</th>\n",
       "      <td>...</td>\n",
       "      <td>...</td>\n",
       "      <td>...</td>\n",
       "      <td>...</td>\n",
       "      <td>...</td>\n",
       "      <td>...</td>\n",
       "      <td>...</td>\n",
       "      <td>...</td>\n",
       "      <td>...</td>\n",
       "      <td>...</td>\n",
       "      <td>...</td>\n",
       "      <td>...</td>\n",
       "      <td>...</td>\n",
       "      <td>...</td>\n",
       "      <td>...</td>\n",
       "      <td>...</td>\n",
       "      <td>...</td>\n",
       "    </tr>\n",
       "    <tr>\n",
       "      <th>2106</th>\n",
       "      <td>Female</td>\n",
       "      <td>21</td>\n",
       "      <td>1.71</td>\n",
       "      <td>131</td>\n",
       "      <td>yes</td>\n",
       "      <td>yes</td>\n",
       "      <td>3</td>\n",
       "      <td>3</td>\n",
       "      <td>Sometimes</td>\n",
       "      <td>no</td>\n",
       "      <td>2</td>\n",
       "      <td>no</td>\n",
       "      <td>2</td>\n",
       "      <td>1</td>\n",
       "      <td>Sometimes</td>\n",
       "      <td>Public_Transportation</td>\n",
       "      <td>Obesity_Type_III</td>\n",
       "    </tr>\n",
       "    <tr>\n",
       "      <th>2107</th>\n",
       "      <td>Female</td>\n",
       "      <td>22</td>\n",
       "      <td>1.75</td>\n",
       "      <td>134</td>\n",
       "      <td>yes</td>\n",
       "      <td>yes</td>\n",
       "      <td>3</td>\n",
       "      <td>3</td>\n",
       "      <td>Sometimes</td>\n",
       "      <td>no</td>\n",
       "      <td>2</td>\n",
       "      <td>no</td>\n",
       "      <td>1</td>\n",
       "      <td>1</td>\n",
       "      <td>Sometimes</td>\n",
       "      <td>Public_Transportation</td>\n",
       "      <td>Obesity_Type_III</td>\n",
       "    </tr>\n",
       "    <tr>\n",
       "      <th>2108</th>\n",
       "      <td>Female</td>\n",
       "      <td>23</td>\n",
       "      <td>1.75</td>\n",
       "      <td>134</td>\n",
       "      <td>yes</td>\n",
       "      <td>yes</td>\n",
       "      <td>3</td>\n",
       "      <td>3</td>\n",
       "      <td>Sometimes</td>\n",
       "      <td>no</td>\n",
       "      <td>2</td>\n",
       "      <td>no</td>\n",
       "      <td>1</td>\n",
       "      <td>1</td>\n",
       "      <td>Sometimes</td>\n",
       "      <td>Public_Transportation</td>\n",
       "      <td>Obesity_Type_III</td>\n",
       "    </tr>\n",
       "    <tr>\n",
       "      <th>2109</th>\n",
       "      <td>Female</td>\n",
       "      <td>24</td>\n",
       "      <td>1.74</td>\n",
       "      <td>133</td>\n",
       "      <td>yes</td>\n",
       "      <td>yes</td>\n",
       "      <td>3</td>\n",
       "      <td>3</td>\n",
       "      <td>Sometimes</td>\n",
       "      <td>no</td>\n",
       "      <td>3</td>\n",
       "      <td>no</td>\n",
       "      <td>1</td>\n",
       "      <td>1</td>\n",
       "      <td>Sometimes</td>\n",
       "      <td>Public_Transportation</td>\n",
       "      <td>Obesity_Type_III</td>\n",
       "    </tr>\n",
       "    <tr>\n",
       "      <th>2110</th>\n",
       "      <td>Female</td>\n",
       "      <td>24</td>\n",
       "      <td>1.74</td>\n",
       "      <td>133</td>\n",
       "      <td>yes</td>\n",
       "      <td>yes</td>\n",
       "      <td>3</td>\n",
       "      <td>3</td>\n",
       "      <td>Sometimes</td>\n",
       "      <td>no</td>\n",
       "      <td>3</td>\n",
       "      <td>no</td>\n",
       "      <td>1</td>\n",
       "      <td>1</td>\n",
       "      <td>Sometimes</td>\n",
       "      <td>Public_Transportation</td>\n",
       "      <td>Obesity_Type_III</td>\n",
       "    </tr>\n",
       "  </tbody>\n",
       "</table>\n",
       "<p>1950 rows × 17 columns</p>\n",
       "</div>"
      ],
      "text/plain": [
       "      Gender  Age  Height  Weight family_history_with_overweight FAVC  FCVC  \\\n",
       "0     Female   21    1.62      64                            yes   no     2   \n",
       "1     Female   21    1.52      56                            yes   no     3   \n",
       "2       Male   23    1.80      77                            yes   no     2   \n",
       "3       Male   27    1.80      87                             no   no     3   \n",
       "4       Male   22    1.78      90                             no   no     2   \n",
       "...      ...  ...     ...     ...                            ...  ...   ...   \n",
       "2106  Female   21    1.71     131                            yes  yes     3   \n",
       "2107  Female   22    1.75     134                            yes  yes     3   \n",
       "2108  Female   23    1.75     134                            yes  yes     3   \n",
       "2109  Female   24    1.74     133                            yes  yes     3   \n",
       "2110  Female   24    1.74     133                            yes  yes     3   \n",
       "\n",
       "      NCP       CAEC SMOKE  CH2O  SCC  FAF  TUE        CALC  \\\n",
       "0       3  Sometimes    no     2   no    0    1          no   \n",
       "1       3  Sometimes   yes     3  yes    3    0   Sometimes   \n",
       "2       3  Sometimes    no     2   no    2    1  Frequently   \n",
       "3       3  Sometimes    no     2   no    2    0  Frequently   \n",
       "4       1  Sometimes    no     2   no    0    0   Sometimes   \n",
       "...   ...        ...   ...   ...  ...  ...  ...         ...   \n",
       "2106    3  Sometimes    no     2   no    2    1   Sometimes   \n",
       "2107    3  Sometimes    no     2   no    1    1   Sometimes   \n",
       "2108    3  Sometimes    no     2   no    1    1   Sometimes   \n",
       "2109    3  Sometimes    no     3   no    1    1   Sometimes   \n",
       "2110    3  Sometimes    no     3   no    1    1   Sometimes   \n",
       "\n",
       "                     MTRANS           NObeyesdad  \n",
       "0     Public_Transportation        Normal_Weight  \n",
       "1     Public_Transportation        Normal_Weight  \n",
       "2     Public_Transportation        Normal_Weight  \n",
       "3                   Walking   Overweight_Level_I  \n",
       "4     Public_Transportation  Overweight_Level_II  \n",
       "...                     ...                  ...  \n",
       "2106  Public_Transportation     Obesity_Type_III  \n",
       "2107  Public_Transportation     Obesity_Type_III  \n",
       "2108  Public_Transportation     Obesity_Type_III  \n",
       "2109  Public_Transportation     Obesity_Type_III  \n",
       "2110  Public_Transportation     Obesity_Type_III  \n",
       "\n",
       "[1950 rows x 17 columns]"
      ]
     },
     "execution_count": 28,
     "metadata": {},
     "output_type": "execute_result"
    }
   ],
   "source": [
    "data_iqr = df.copy()\n",
    "\n",
    "data_iqr.drop(data_iqr[(data_iqr.Weight > 169.25) | (data_iqr.Weight < 3.25)].index, inplace = True)\n",
    "data_iqr.drop(data_iqr[(data_iqr.Age > 35.0) | (data_iqr.Age < 11.0)].index, inplace = True)\n",
    "\n",
    "data_iqr"
   ]
  },
  {
   "cell_type": "code",
   "execution_count": 29,
   "id": "266739af",
   "metadata": {},
   "outputs": [
    {
     "data": {
      "image/png": "[encoded data removed]",
      "text/plain": [
       "<Figure size 432x288 with 1 Axes>"
      ]
     },
     "metadata": {
      "needs_background": "light"
     },
     "output_type": "display_data"
    }
   ],
   "source": [
    "sns.boxplot(y = \"Weight\", data = data_iqr)\n",
    "plt.yticks(fontsize=10)\n",
    "plt.ylabel('Weight', fontsize=12)\n",
    "plt.show()"
   ]
  },
  {
   "cell_type": "code",
   "execution_count": 30,
   "id": "dc5854ef",
   "metadata": {},
   "outputs": [
    {
     "data": {
      "image/png": "[encoded data removed]",
      "text/plain": [
       "<Figure size 432x288 with 1 Axes>"
      ]
     },
     "metadata": {
      "needs_background": "light"
     },
     "output_type": "display_data"
    }
   ],
   "source": [
    "sns.boxplot(y = \"Age\", data = data_iqr)\n",
    "plt.yticks(fontsize=10)\n",
    "plt.ylabel('Age', fontsize=12)\n",
    "plt.show()"
   ]
  },
  {
   "cell_type": "markdown",
   "id": "1683c70c",
   "metadata": {},
   "source": [
    "# Data Processing"
   ]
  },
  {
   "cell_type": "code",
   "execution_count": 31,
   "id": "782e5660",
   "metadata": {},
   "outputs": [
    {
     "name": "stdout",
     "output_type": "stream",
     "text": [
      "Gender :  2 labels\n",
      "Age :  22 labels\n",
      "Height :  51 labels\n",
      "Weight :  117 labels\n",
      "family_history_with_overweight :  2 labels\n",
      "FAVC :  2 labels\n",
      "FCVC :  3 labels\n",
      "NCP :  4 labels\n",
      "CAEC :  4 labels\n",
      "SMOKE :  2 labels\n",
      "CH2O :  3 labels\n",
      "SCC :  2 labels\n",
      "FAF :  4 labels\n",
      "TUE :  3 labels\n",
      "CALC :  4 labels\n",
      "MTRANS :  5 labels\n",
      "NObeyesdad :  7 labels\n"
     ]
    }
   ],
   "source": [
    "#  Let's have a look at how many labels each variable has\n",
    "for col in data_iqr.columns:\n",
    "    print(col, ': ', len(data_iqr[col].unique()), 'labels')"
   ]
  },
  {
   "cell_type": "code",
   "execution_count": 32,
   "id": "25e7d5f8",
   "metadata": {},
   "outputs": [
    {
     "data": {
      "text/html": [
       "<div>\n",
       "<style scoped>\n",
       "    .dataframe tbody tr th:only-of-type {\n",
       "        vertical-align: middle;\n",
       "    }\n",
       "\n",
       "    .dataframe tbody tr th {\n",
       "        vertical-align: top;\n",
       "    }\n",
       "\n",
       "    .dataframe thead th {\n",
       "        text-align: right;\n",
       "    }\n",
       "</style>\n",
       "<table border=\"1\" class=\"dataframe\">\n",
       "  <thead>\n",
       "    <tr style=\"text-align: right;\">\n",
       "      <th></th>\n",
       "      <th>Gender_1</th>\n",
       "      <th>Gender_2</th>\n",
       "      <th>Age</th>\n",
       "      <th>Height</th>\n",
       "      <th>Weight</th>\n",
       "      <th>family_history_with_overweight_1</th>\n",
       "      <th>family_history_with_overweight_2</th>\n",
       "      <th>FAVC_1</th>\n",
       "      <th>FAVC_2</th>\n",
       "      <th>FCVC</th>\n",
       "      <th>...</th>\n",
       "      <th>SCC_2</th>\n",
       "      <th>FAF</th>\n",
       "      <th>TUE</th>\n",
       "      <th>CALC</th>\n",
       "      <th>MTRANS_1</th>\n",
       "      <th>MTRANS_2</th>\n",
       "      <th>MTRANS_3</th>\n",
       "      <th>MTRANS_4</th>\n",
       "      <th>MTRANS_5</th>\n",
       "      <th>NObeyesdad</th>\n",
       "    </tr>\n",
       "  </thead>\n",
       "  <tbody>\n",
       "    <tr>\n",
       "      <th>0</th>\n",
       "      <td>1</td>\n",
       "      <td>0</td>\n",
       "      <td>21</td>\n",
       "      <td>1.62</td>\n",
       "      <td>64</td>\n",
       "      <td>1</td>\n",
       "      <td>0</td>\n",
       "      <td>1</td>\n",
       "      <td>0</td>\n",
       "      <td>2</td>\n",
       "      <td>...</td>\n",
       "      <td>0</td>\n",
       "      <td>0</td>\n",
       "      <td>1</td>\n",
       "      <td>no</td>\n",
       "      <td>1</td>\n",
       "      <td>0</td>\n",
       "      <td>0</td>\n",
       "      <td>0</td>\n",
       "      <td>0</td>\n",
       "      <td>Normal_Weight</td>\n",
       "    </tr>\n",
       "    <tr>\n",
       "      <th>1</th>\n",
       "      <td>1</td>\n",
       "      <td>0</td>\n",
       "      <td>21</td>\n",
       "      <td>1.52</td>\n",
       "      <td>56</td>\n",
       "      <td>1</td>\n",
       "      <td>0</td>\n",
       "      <td>1</td>\n",
       "      <td>0</td>\n",
       "      <td>3</td>\n",
       "      <td>...</td>\n",
       "      <td>1</td>\n",
       "      <td>3</td>\n",
       "      <td>0</td>\n",
       "      <td>Sometimes</td>\n",
       "      <td>1</td>\n",
       "      <td>0</td>\n",
       "      <td>0</td>\n",
       "      <td>0</td>\n",
       "      <td>0</td>\n",
       "      <td>Normal_Weight</td>\n",
       "    </tr>\n",
       "    <tr>\n",
       "      <th>2</th>\n",
       "      <td>0</td>\n",
       "      <td>1</td>\n",
       "      <td>23</td>\n",
       "      <td>1.80</td>\n",
       "      <td>77</td>\n",
       "      <td>1</td>\n",
       "      <td>0</td>\n",
       "      <td>1</td>\n",
       "      <td>0</td>\n",
       "      <td>2</td>\n",
       "      <td>...</td>\n",
       "      <td>0</td>\n",
       "      <td>2</td>\n",
       "      <td>1</td>\n",
       "      <td>Frequently</td>\n",
       "      <td>1</td>\n",
       "      <td>0</td>\n",
       "      <td>0</td>\n",
       "      <td>0</td>\n",
       "      <td>0</td>\n",
       "      <td>Normal_Weight</td>\n",
       "    </tr>\n",
       "    <tr>\n",
       "      <th>3</th>\n",
       "      <td>0</td>\n",
       "      <td>1</td>\n",
       "      <td>27</td>\n",
       "      <td>1.80</td>\n",
       "      <td>87</td>\n",
       "      <td>0</td>\n",
       "      <td>1</td>\n",
       "      <td>1</td>\n",
       "      <td>0</td>\n",
       "      <td>3</td>\n",
       "      <td>...</td>\n",
       "      <td>0</td>\n",
       "      <td>2</td>\n",
       "      <td>0</td>\n",
       "      <td>Frequently</td>\n",
       "      <td>0</td>\n",
       "      <td>1</td>\n",
       "      <td>0</td>\n",
       "      <td>0</td>\n",
       "      <td>0</td>\n",
       "      <td>Overweight_Level_I</td>\n",
       "    </tr>\n",
       "    <tr>\n",
       "      <th>4</th>\n",
       "      <td>0</td>\n",
       "      <td>1</td>\n",
       "      <td>22</td>\n",
       "      <td>1.78</td>\n",
       "      <td>90</td>\n",
       "      <td>0</td>\n",
       "      <td>1</td>\n",
       "      <td>1</td>\n",
       "      <td>0</td>\n",
       "      <td>2</td>\n",
       "      <td>...</td>\n",
       "      <td>0</td>\n",
       "      <td>0</td>\n",
       "      <td>0</td>\n",
       "      <td>Sometimes</td>\n",
       "      <td>1</td>\n",
       "      <td>0</td>\n",
       "      <td>0</td>\n",
       "      <td>0</td>\n",
       "      <td>0</td>\n",
       "      <td>Overweight_Level_II</td>\n",
       "    </tr>\n",
       "    <tr>\n",
       "      <th>...</th>\n",
       "      <td>...</td>\n",
       "      <td>...</td>\n",
       "      <td>...</td>\n",
       "      <td>...</td>\n",
       "      <td>...</td>\n",
       "      <td>...</td>\n",
       "      <td>...</td>\n",
       "      <td>...</td>\n",
       "      <td>...</td>\n",
       "      <td>...</td>\n",
       "      <td>...</td>\n",
       "      <td>...</td>\n",
       "      <td>...</td>\n",
       "      <td>...</td>\n",
       "      <td>...</td>\n",
       "      <td>...</td>\n",
       "      <td>...</td>\n",
       "      <td>...</td>\n",
       "      <td>...</td>\n",
       "      <td>...</td>\n",
       "      <td>...</td>\n",
       "    </tr>\n",
       "    <tr>\n",
       "      <th>2106</th>\n",
       "      <td>1</td>\n",
       "      <td>0</td>\n",
       "      <td>21</td>\n",
       "      <td>1.71</td>\n",
       "      <td>131</td>\n",
       "      <td>1</td>\n",
       "      <td>0</td>\n",
       "      <td>0</td>\n",
       "      <td>1</td>\n",
       "      <td>3</td>\n",
       "      <td>...</td>\n",
       "      <td>0</td>\n",
       "      <td>2</td>\n",
       "      <td>1</td>\n",
       "      <td>Sometimes</td>\n",
       "      <td>1</td>\n",
       "      <td>0</td>\n",
       "      <td>0</td>\n",
       "      <td>0</td>\n",
       "      <td>0</td>\n",
       "      <td>Obesity_Type_III</td>\n",
       "    </tr>\n",
       "    <tr>\n",
       "      <th>2107</th>\n",
       "      <td>1</td>\n",
       "      <td>0</td>\n",
       "      <td>22</td>\n",
       "      <td>1.75</td>\n",
       "      <td>134</td>\n",
       "      <td>1</td>\n",
       "      <td>0</td>\n",
       "      <td>0</td>\n",
       "      <td>1</td>\n",
       "      <td>3</td>\n",
       "      <td>...</td>\n",
       "      <td>0</td>\n",
       "      <td>1</td>\n",
       "      <td>1</td>\n",
       "      <td>Sometimes</td>\n",
       "      <td>1</td>\n",
       "      <td>0</td>\n",
       "      <td>0</td>\n",
       "      <td>0</td>\n",
       "      <td>0</td>\n",
       "      <td>Obesity_Type_III</td>\n",
       "    </tr>\n",
       "    <tr>\n",
       "      <th>2108</th>\n",
       "      <td>1</td>\n",
       "      <td>0</td>\n",
       "      <td>23</td>\n",
       "      <td>1.75</td>\n",
       "      <td>134</td>\n",
       "      <td>1</td>\n",
       "      <td>0</td>\n",
       "      <td>0</td>\n",
       "      <td>1</td>\n",
       "      <td>3</td>\n",
       "      <td>...</td>\n",
       "      <td>0</td>\n",
       "      <td>1</td>\n",
       "      <td>1</td>\n",
       "      <td>Sometimes</td>\n",
       "      <td>1</td>\n",
       "      <td>0</td>\n",
       "      <td>0</td>\n",
       "      <td>0</td>\n",
       "      <td>0</td>\n",
       "      <td>Obesity_Type_III</td>\n",
       "    </tr>\n",
       "    <tr>\n",
       "      <th>2109</th>\n",
       "      <td>1</td>\n",
       "      <td>0</td>\n",
       "      <td>24</td>\n",
       "      <td>1.74</td>\n",
       "      <td>133</td>\n",
       "      <td>1</td>\n",
       "      <td>0</td>\n",
       "      <td>0</td>\n",
       "      <td>1</td>\n",
       "      <td>3</td>\n",
       "      <td>...</td>\n",
       "      <td>0</td>\n",
       "      <td>1</td>\n",
       "      <td>1</td>\n",
       "      <td>Sometimes</td>\n",
       "      <td>1</td>\n",
       "      <td>0</td>\n",
       "      <td>0</td>\n",
       "      <td>0</td>\n",
       "      <td>0</td>\n",
       "      <td>Obesity_Type_III</td>\n",
       "    </tr>\n",
       "    <tr>\n",
       "      <th>2110</th>\n",
       "      <td>1</td>\n",
       "      <td>0</td>\n",
       "      <td>24</td>\n",
       "      <td>1.74</td>\n",
       "      <td>133</td>\n",
       "      <td>1</td>\n",
       "      <td>0</td>\n",
       "      <td>0</td>\n",
       "      <td>1</td>\n",
       "      <td>3</td>\n",
       "      <td>...</td>\n",
       "      <td>0</td>\n",
       "      <td>1</td>\n",
       "      <td>1</td>\n",
       "      <td>Sometimes</td>\n",
       "      <td>1</td>\n",
       "      <td>0</td>\n",
       "      <td>0</td>\n",
       "      <td>0</td>\n",
       "      <td>0</td>\n",
       "      <td>Obesity_Type_III</td>\n",
       "    </tr>\n",
       "  </tbody>\n",
       "</table>\n",
       "<p>1950 rows × 26 columns</p>\n",
       "</div>"
      ],
      "text/plain": [
       "      Gender_1  Gender_2  Age  Height  Weight  \\\n",
       "0            1         0   21    1.62      64   \n",
       "1            1         0   21    1.52      56   \n",
       "2            0         1   23    1.80      77   \n",
       "3            0         1   27    1.80      87   \n",
       "4            0         1   22    1.78      90   \n",
       "...        ...       ...  ...     ...     ...   \n",
       "2106         1         0   21    1.71     131   \n",
       "2107         1         0   22    1.75     134   \n",
       "2108         1         0   23    1.75     134   \n",
       "2109         1         0   24    1.74     133   \n",
       "2110         1         0   24    1.74     133   \n",
       "\n",
       "      family_history_with_overweight_1  family_history_with_overweight_2  \\\n",
       "0                                    1                                 0   \n",
       "1                                    1                                 0   \n",
       "2                                    1                                 0   \n",
       "3                                    0                                 1   \n",
       "4                                    0                                 1   \n",
       "...                                ...                               ...   \n",
       "2106                                 1                                 0   \n",
       "2107                                 1                                 0   \n",
       "2108                                 1                                 0   \n",
       "2109                                 1                                 0   \n",
       "2110                                 1                                 0   \n",
       "\n",
       "      FAVC_1  FAVC_2  FCVC  ...  SCC_2 FAF  TUE        CALC  MTRANS_1  \\\n",
       "0          1       0     2  ...      0   0    1          no         1   \n",
       "1          1       0     3  ...      1   3    0   Sometimes         1   \n",
       "2          1       0     2  ...      0   2    1  Frequently         1   \n",
       "3          1       0     3  ...      0   2    0  Frequently         0   \n",
       "4          1       0     2  ...      0   0    0   Sometimes         1   \n",
       "...      ...     ...   ...  ...    ...  ..  ...         ...       ...   \n",
       "2106       0       1     3  ...      0   2    1   Sometimes         1   \n",
       "2107       0       1     3  ...      0   1    1   Sometimes         1   \n",
       "2108       0       1     3  ...      0   1    1   Sometimes         1   \n",
       "2109       0       1     3  ...      0   1    1   Sometimes         1   \n",
       "2110       0       1     3  ...      0   1    1   Sometimes         1   \n",
       "\n",
       "      MTRANS_2  MTRANS_3  MTRANS_4  MTRANS_5           NObeyesdad  \n",
       "0            0         0         0         0        Normal_Weight  \n",
       "1            0         0         0         0        Normal_Weight  \n",
       "2            0         0         0         0        Normal_Weight  \n",
       "3            1         0         0         0   Overweight_Level_I  \n",
       "4            0         0         0         0  Overweight_Level_II  \n",
       "...        ...       ...       ...       ...                  ...  \n",
       "2106         0         0         0         0     Obesity_Type_III  \n",
       "2107         0         0         0         0     Obesity_Type_III  \n",
       "2108         0         0         0         0     Obesity_Type_III  \n",
       "2109         0         0         0         0     Obesity_Type_III  \n",
       "2110         0         0         0         0     Obesity_Type_III  \n",
       "\n",
       "[1950 rows x 26 columns]"
      ]
     },
     "execution_count": 32,
     "metadata": {},
     "output_type": "execute_result"
    }
   ],
   "source": [
    "# Do categorical transforms on all data\n",
    "# One-Hot Encoding: used for nominal categorical variables. That is, variables that have no ordering among themselves.\n",
    "\n",
    "data_iqr_ohe = data_iqr.copy()\n",
    "one_hot_enc = OneHotEncoder(cols=['Gender', 'family_history_with_overweight', 'FAVC', 'SMOKE', 'SCC', 'MTRANS'])\n",
    "data_ohe = one_hot_enc.fit_transform(data_iqr_ohe)\n",
    "data_ohe"
   ]
  },
  {
   "cell_type": "code",
   "execution_count": 33,
   "id": "70c44bee",
   "metadata": {},
   "outputs": [
    {
     "data": {
      "text/html": [
       "<div>\n",
       "<style scoped>\n",
       "    .dataframe tbody tr th:only-of-type {\n",
       "        vertical-align: middle;\n",
       "    }\n",
       "\n",
       "    .dataframe tbody tr th {\n",
       "        vertical-align: top;\n",
       "    }\n",
       "\n",
       "    .dataframe thead th {\n",
       "        text-align: right;\n",
       "    }\n",
       "</style>\n",
       "<table border=\"1\" class=\"dataframe\">\n",
       "  <thead>\n",
       "    <tr style=\"text-align: right;\">\n",
       "      <th></th>\n",
       "      <th>CAEC</th>\n",
       "      <th>CALC</th>\n",
       "      <th>NObeyesdad</th>\n",
       "    </tr>\n",
       "  </thead>\n",
       "  <tbody>\n",
       "    <tr>\n",
       "      <th>count</th>\n",
       "      <td>1950</td>\n",
       "      <td>1950</td>\n",
       "      <td>1950</td>\n",
       "    </tr>\n",
       "    <tr>\n",
       "      <th>unique</th>\n",
       "      <td>4</td>\n",
       "      <td>4</td>\n",
       "      <td>7</td>\n",
       "    </tr>\n",
       "    <tr>\n",
       "      <th>top</th>\n",
       "      <td>Sometimes</td>\n",
       "      <td>Sometimes</td>\n",
       "      <td>Obesity_Type_III</td>\n",
       "    </tr>\n",
       "    <tr>\n",
       "      <th>freq</th>\n",
       "      <td>1618</td>\n",
       "      <td>1311</td>\n",
       "      <td>323</td>\n",
       "    </tr>\n",
       "  </tbody>\n",
       "</table>\n",
       "</div>"
      ],
      "text/plain": [
       "             CAEC       CALC        NObeyesdad\n",
       "count        1950       1950              1950\n",
       "unique          4          4                 7\n",
       "top     Sometimes  Sometimes  Obesity_Type_III\n",
       "freq         1618       1311               323"
      ]
     },
     "execution_count": 33,
     "metadata": {},
     "output_type": "execute_result"
    }
   ],
   "source": [
    "data_ohe.select_dtypes(include='object').describe()"
   ]
  },
  {
   "cell_type": "code",
   "execution_count": 34,
   "id": "8fd1bed8",
   "metadata": {},
   "outputs": [],
   "source": [
    "# Ordinal Encoding: used for ordinal categorical variables\n",
    "# Cols: CAEC, CALC, NObeyesdad\n",
    "\n",
    "ord_enc = OrdinalEncoder(mapping= \n",
    "[{'col': 'CAEC', 'mapping': {'no':0, 'Sometimes':1, 'Frequently':2, 'Always':3}},\n",
    "{'col': 'CALC', 'mapping': {'no': 0, 'Sometimes': 1, 'Frequently': 2, 'Always': 3}},\n",
    "{'col':'NObeyesdad','mapping':{'Insufficient_Weight':0,'Normal_Weight':1,'Overweight_Level_I':2,'Overweight_Level_II':3,'Obesity_Type_I':4,'Obesity_Type_II':5,'Obesity_Type_III':6}}])\n"
   ]
  },
  {
   "cell_type": "code",
   "execution_count": 35,
   "id": "e16ec9a6",
   "metadata": {},
   "outputs": [
    {
     "data": {
      "text/html": [
       "<div>\n",
       "<style scoped>\n",
       "    .dataframe tbody tr th:only-of-type {\n",
       "        vertical-align: middle;\n",
       "    }\n",
       "\n",
       "    .dataframe tbody tr th {\n",
       "        vertical-align: top;\n",
       "    }\n",
       "\n",
       "    .dataframe thead th {\n",
       "        text-align: right;\n",
       "    }\n",
       "</style>\n",
       "<table border=\"1\" class=\"dataframe\">\n",
       "  <thead>\n",
       "    <tr style=\"text-align: right;\">\n",
       "      <th></th>\n",
       "      <th>Gender_1</th>\n",
       "      <th>Gender_2</th>\n",
       "      <th>Age</th>\n",
       "      <th>Height</th>\n",
       "      <th>Weight</th>\n",
       "      <th>family_history_with_overweight_1</th>\n",
       "      <th>family_history_with_overweight_2</th>\n",
       "      <th>FAVC_1</th>\n",
       "      <th>FAVC_2</th>\n",
       "      <th>FCVC</th>\n",
       "      <th>...</th>\n",
       "      <th>SCC_2</th>\n",
       "      <th>FAF</th>\n",
       "      <th>TUE</th>\n",
       "      <th>CALC</th>\n",
       "      <th>MTRANS_1</th>\n",
       "      <th>MTRANS_2</th>\n",
       "      <th>MTRANS_3</th>\n",
       "      <th>MTRANS_4</th>\n",
       "      <th>MTRANS_5</th>\n",
       "      <th>NObeyesdad</th>\n",
       "    </tr>\n",
       "  </thead>\n",
       "  <tbody>\n",
       "    <tr>\n",
       "      <th>0</th>\n",
       "      <td>1</td>\n",
       "      <td>0</td>\n",
       "      <td>21</td>\n",
       "      <td>1.62</td>\n",
       "      <td>64</td>\n",
       "      <td>1</td>\n",
       "      <td>0</td>\n",
       "      <td>1</td>\n",
       "      <td>0</td>\n",
       "      <td>2</td>\n",
       "      <td>...</td>\n",
       "      <td>0</td>\n",
       "      <td>0</td>\n",
       "      <td>1</td>\n",
       "      <td>0</td>\n",
       "      <td>1</td>\n",
       "      <td>0</td>\n",
       "      <td>0</td>\n",
       "      <td>0</td>\n",
       "      <td>0</td>\n",
       "      <td>1</td>\n",
       "    </tr>\n",
       "    <tr>\n",
       "      <th>1</th>\n",
       "      <td>1</td>\n",
       "      <td>0</td>\n",
       "      <td>21</td>\n",
       "      <td>1.52</td>\n",
       "      <td>56</td>\n",
       "      <td>1</td>\n",
       "      <td>0</td>\n",
       "      <td>1</td>\n",
       "      <td>0</td>\n",
       "      <td>3</td>\n",
       "      <td>...</td>\n",
       "      <td>1</td>\n",
       "      <td>3</td>\n",
       "      <td>0</td>\n",
       "      <td>1</td>\n",
       "      <td>1</td>\n",
       "      <td>0</td>\n",
       "      <td>0</td>\n",
       "      <td>0</td>\n",
       "      <td>0</td>\n",
       "      <td>1</td>\n",
       "    </tr>\n",
       "    <tr>\n",
       "      <th>2</th>\n",
       "      <td>0</td>\n",
       "      <td>1</td>\n",
       "      <td>23</td>\n",
       "      <td>1.80</td>\n",
       "      <td>77</td>\n",
       "      <td>1</td>\n",
       "      <td>0</td>\n",
       "      <td>1</td>\n",
       "      <td>0</td>\n",
       "      <td>2</td>\n",
       "      <td>...</td>\n",
       "      <td>0</td>\n",
       "      <td>2</td>\n",
       "      <td>1</td>\n",
       "      <td>2</td>\n",
       "      <td>1</td>\n",
       "      <td>0</td>\n",
       "      <td>0</td>\n",
       "      <td>0</td>\n",
       "      <td>0</td>\n",
       "      <td>1</td>\n",
       "    </tr>\n",
       "    <tr>\n",
       "      <th>3</th>\n",
       "      <td>0</td>\n",
       "      <td>1</td>\n",
       "      <td>27</td>\n",
       "      <td>1.80</td>\n",
       "      <td>87</td>\n",
       "      <td>0</td>\n",
       "      <td>1</td>\n",
       "      <td>1</td>\n",
       "      <td>0</td>\n",
       "      <td>3</td>\n",
       "      <td>...</td>\n",
       "      <td>0</td>\n",
       "      <td>2</td>\n",
       "      <td>0</td>\n",
       "      <td>2</td>\n",
       "      <td>0</td>\n",
       "      <td>1</td>\n",
       "      <td>0</td>\n",
       "      <td>0</td>\n",
       "      <td>0</td>\n",
       "      <td>2</td>\n",
       "    </tr>\n",
       "    <tr>\n",
       "      <th>4</th>\n",
       "      <td>0</td>\n",
       "      <td>1</td>\n",
       "      <td>22</td>\n",
       "      <td>1.78</td>\n",
       "      <td>90</td>\n",
       "      <td>0</td>\n",
       "      <td>1</td>\n",
       "      <td>1</td>\n",
       "      <td>0</td>\n",
       "      <td>2</td>\n",
       "      <td>...</td>\n",
       "      <td>0</td>\n",
       "      <td>0</td>\n",
       "      <td>0</td>\n",
       "      <td>1</td>\n",
       "      <td>1</td>\n",
       "      <td>0</td>\n",
       "      <td>0</td>\n",
       "      <td>0</td>\n",
       "      <td>0</td>\n",
       "      <td>3</td>\n",
       "    </tr>\n",
       "    <tr>\n",
       "      <th>...</th>\n",
       "      <td>...</td>\n",
       "      <td>...</td>\n",
       "      <td>...</td>\n",
       "      <td>...</td>\n",
       "      <td>...</td>\n",
       "      <td>...</td>\n",
       "      <td>...</td>\n",
       "      <td>...</td>\n",
       "      <td>...</td>\n",
       "      <td>...</td>\n",
       "      <td>...</td>\n",
       "      <td>...</td>\n",
       "      <td>...</td>\n",
       "      <td>...</td>\n",
       "      <td>...</td>\n",
       "      <td>...</td>\n",
       "      <td>...</td>\n",
       "      <td>...</td>\n",
       "      <td>...</td>\n",
       "      <td>...</td>\n",
       "      <td>...</td>\n",
       "    </tr>\n",
       "    <tr>\n",
       "      <th>2106</th>\n",
       "      <td>1</td>\n",
       "      <td>0</td>\n",
       "      <td>21</td>\n",
       "      <td>1.71</td>\n",
       "      <td>131</td>\n",
       "      <td>1</td>\n",
       "      <td>0</td>\n",
       "      <td>0</td>\n",
       "      <td>1</td>\n",
       "      <td>3</td>\n",
       "      <td>...</td>\n",
       "      <td>0</td>\n",
       "      <td>2</td>\n",
       "      <td>1</td>\n",
       "      <td>1</td>\n",
       "      <td>1</td>\n",
       "      <td>0</td>\n",
       "      <td>0</td>\n",
       "      <td>0</td>\n",
       "      <td>0</td>\n",
       "      <td>6</td>\n",
       "    </tr>\n",
       "    <tr>\n",
       "      <th>2107</th>\n",
       "      <td>1</td>\n",
       "      <td>0</td>\n",
       "      <td>22</td>\n",
       "      <td>1.75</td>\n",
       "      <td>134</td>\n",
       "      <td>1</td>\n",
       "      <td>0</td>\n",
       "      <td>0</td>\n",
       "      <td>1</td>\n",
       "      <td>3</td>\n",
       "      <td>...</td>\n",
       "      <td>0</td>\n",
       "      <td>1</td>\n",
       "      <td>1</td>\n",
       "      <td>1</td>\n",
       "      <td>1</td>\n",
       "      <td>0</td>\n",
       "      <td>0</td>\n",
       "      <td>0</td>\n",
       "      <td>0</td>\n",
       "      <td>6</td>\n",
       "    </tr>\n",
       "    <tr>\n",
       "      <th>2108</th>\n",
       "      <td>1</td>\n",
       "      <td>0</td>\n",
       "      <td>23</td>\n",
       "      <td>1.75</td>\n",
       "      <td>134</td>\n",
       "      <td>1</td>\n",
       "      <td>0</td>\n",
       "      <td>0</td>\n",
       "      <td>1</td>\n",
       "      <td>3</td>\n",
       "      <td>...</td>\n",
       "      <td>0</td>\n",
       "      <td>1</td>\n",
       "      <td>1</td>\n",
       "      <td>1</td>\n",
       "      <td>1</td>\n",
       "      <td>0</td>\n",
       "      <td>0</td>\n",
       "      <td>0</td>\n",
       "      <td>0</td>\n",
       "      <td>6</td>\n",
       "    </tr>\n",
       "    <tr>\n",
       "      <th>2109</th>\n",
       "      <td>1</td>\n",
       "      <td>0</td>\n",
       "      <td>24</td>\n",
       "      <td>1.74</td>\n",
       "      <td>133</td>\n",
       "      <td>1</td>\n",
       "      <td>0</td>\n",
       "      <td>0</td>\n",
       "      <td>1</td>\n",
       "      <td>3</td>\n",
       "      <td>...</td>\n",
       "      <td>0</td>\n",
       "      <td>1</td>\n",
       "      <td>1</td>\n",
       "      <td>1</td>\n",
       "      <td>1</td>\n",
       "      <td>0</td>\n",
       "      <td>0</td>\n",
       "      <td>0</td>\n",
       "      <td>0</td>\n",
       "      <td>6</td>\n",
       "    </tr>\n",
       "    <tr>\n",
       "      <th>2110</th>\n",
       "      <td>1</td>\n",
       "      <td>0</td>\n",
       "      <td>24</td>\n",
       "      <td>1.74</td>\n",
       "      <td>133</td>\n",
       "      <td>1</td>\n",
       "      <td>0</td>\n",
       "      <td>0</td>\n",
       "      <td>1</td>\n",
       "      <td>3</td>\n",
       "      <td>...</td>\n",
       "      <td>0</td>\n",
       "      <td>1</td>\n",
       "      <td>1</td>\n",
       "      <td>1</td>\n",
       "      <td>1</td>\n",
       "      <td>0</td>\n",
       "      <td>0</td>\n",
       "      <td>0</td>\n",
       "      <td>0</td>\n",
       "      <td>6</td>\n",
       "    </tr>\n",
       "  </tbody>\n",
       "</table>\n",
       "<p>1950 rows × 26 columns</p>\n",
       "</div>"
      ],
      "text/plain": [
       "      Gender_1  Gender_2  Age  Height  Weight  \\\n",
       "0            1         0   21    1.62      64   \n",
       "1            1         0   21    1.52      56   \n",
       "2            0         1   23    1.80      77   \n",
       "3            0         1   27    1.80      87   \n",
       "4            0         1   22    1.78      90   \n",
       "...        ...       ...  ...     ...     ...   \n",
       "2106         1         0   21    1.71     131   \n",
       "2107         1         0   22    1.75     134   \n",
       "2108         1         0   23    1.75     134   \n",
       "2109         1         0   24    1.74     133   \n",
       "2110         1         0   24    1.74     133   \n",
       "\n",
       "      family_history_with_overweight_1  family_history_with_overweight_2  \\\n",
       "0                                    1                                 0   \n",
       "1                                    1                                 0   \n",
       "2                                    1                                 0   \n",
       "3                                    0                                 1   \n",
       "4                                    0                                 1   \n",
       "...                                ...                               ...   \n",
       "2106                                 1                                 0   \n",
       "2107                                 1                                 0   \n",
       "2108                                 1                                 0   \n",
       "2109                                 1                                 0   \n",
       "2110                                 1                                 0   \n",
       "\n",
       "      FAVC_1  FAVC_2  FCVC  ...  SCC_2  FAF  TUE  CALC  MTRANS_1  MTRANS_2  \\\n",
       "0          1       0     2  ...      0    0    1     0         1         0   \n",
       "1          1       0     3  ...      1    3    0     1         1         0   \n",
       "2          1       0     2  ...      0    2    1     2         1         0   \n",
       "3          1       0     3  ...      0    2    0     2         0         1   \n",
       "4          1       0     2  ...      0    0    0     1         1         0   \n",
       "...      ...     ...   ...  ...    ...  ...  ...   ...       ...       ...   \n",
       "2106       0       1     3  ...      0    2    1     1         1         0   \n",
       "2107       0       1     3  ...      0    1    1     1         1         0   \n",
       "2108       0       1     3  ...      0    1    1     1         1         0   \n",
       "2109       0       1     3  ...      0    1    1     1         1         0   \n",
       "2110       0       1     3  ...      0    1    1     1         1         0   \n",
       "\n",
       "      MTRANS_3  MTRANS_4  MTRANS_5  NObeyesdad  \n",
       "0            0         0         0           1  \n",
       "1            0         0         0           1  \n",
       "2            0         0         0           1  \n",
       "3            0         0         0           2  \n",
       "4            0         0         0           3  \n",
       "...        ...       ...       ...         ...  \n",
       "2106         0         0         0           6  \n",
       "2107         0         0         0           6  \n",
       "2108         0         0         0           6  \n",
       "2109         0         0         0           6  \n",
       "2110         0         0         0           6  \n",
       "\n",
       "[1950 rows x 26 columns]"
      ]
     },
     "execution_count": 35,
     "metadata": {},
     "output_type": "execute_result"
    }
   ],
   "source": [
    "data_ord_enc = ord_enc.fit_transform(data_ohe)\n",
    "data_ord_enc"
   ]
  },
  {
   "cell_type": "markdown",
   "id": "8af9d549",
   "metadata": {},
   "source": [
    "# Looking at the mean and standard deviation, it is noted that in the Age and Weight columns there are very different values and different scales."
   ]
  },
  {
   "cell_type": "code",
   "execution_count": 38,
   "id": "841edb36",
   "metadata": {},
   "outputs": [
    {
     "data": {
      "image/png": "[encoded data removed]",
      "text/plain": [
       "<Figure size 3384x1080 with 1 Axes>"
      ]
     },
     "metadata": {
      "needs_background": "light"
     },
     "output_type": "display_data"
    }
   ],
   "source": [
    "# Boxplot to view the data\n",
    "plt.figure(figsize=(47,15)) \n",
    "ax = sns.boxplot(data=data_ord_enc)"
   ]
  },
  {
   "cell_type": "code",
   "execution_count": 39,
   "id": "2d982cb1",
   "metadata": {},
   "outputs": [],
   "source": [
    "# StandardScaler\n",
    "scale = StandardScaler()\n",
    "scaled_data = data_ord_enc.iloc[:, :-1] \n",
    "scaled_data = scale.fit_transform(scaled_data)"
   ]
  },
  {
   "cell_type": "code",
   "execution_count": 40,
   "id": "616ab850",
   "metadata": {},
   "outputs": [
    {
     "data": {
      "image/png": "[encoded data removed]",
      "text/plain": [
       "<Figure size 3384x1080 with 1 Axes>"
      ]
     },
     "metadata": {
      "needs_background": "light"
     },
     "output_type": "display_data"
    }
   ],
   "source": [
    "# Boxplot to view the scale data\n",
    "plt.figure(figsize=(47,15)) \n",
    "ax = sns.boxplot(data=scaled_data)"
   ]
  },
  {
   "cell_type": "code",
   "execution_count": 41,
   "id": "a9b835d4",
   "metadata": {},
   "outputs": [
    {
     "data": {
      "text/html": [
       "<div>\n",
       "<style scoped>\n",
       "    .dataframe tbody tr th:only-of-type {\n",
       "        vertical-align: middle;\n",
       "    }\n",
       "\n",
       "    .dataframe tbody tr th {\n",
       "        vertical-align: top;\n",
       "    }\n",
       "\n",
       "    .dataframe thead th {\n",
       "        text-align: right;\n",
       "    }\n",
       "</style>\n",
       "<table border=\"1\" class=\"dataframe\">\n",
       "  <thead>\n",
       "    <tr style=\"text-align: right;\">\n",
       "      <th></th>\n",
       "      <th>0</th>\n",
       "      <th>1</th>\n",
       "      <th>2</th>\n",
       "      <th>3</th>\n",
       "      <th>4</th>\n",
       "      <th>5</th>\n",
       "      <th>6</th>\n",
       "      <th>7</th>\n",
       "      <th>8</th>\n",
       "      <th>9</th>\n",
       "      <th>...</th>\n",
       "      <th>15</th>\n",
       "      <th>16</th>\n",
       "      <th>17</th>\n",
       "      <th>18</th>\n",
       "      <th>19</th>\n",
       "      <th>20</th>\n",
       "      <th>21</th>\n",
       "      <th>22</th>\n",
       "      <th>23</th>\n",
       "      <th>24</th>\n",
       "    </tr>\n",
       "  </thead>\n",
       "  <tbody>\n",
       "    <tr>\n",
       "      <th>count</th>\n",
       "      <td>1.950000e+03</td>\n",
       "      <td>1.950000e+03</td>\n",
       "      <td>1.950000e+03</td>\n",
       "      <td>1.950000e+03</td>\n",
       "      <td>1.950000e+03</td>\n",
       "      <td>1.950000e+03</td>\n",
       "      <td>1.950000e+03</td>\n",
       "      <td>1.950000e+03</td>\n",
       "      <td>1.950000e+03</td>\n",
       "      <td>1.950000e+03</td>\n",
       "      <td>...</td>\n",
       "      <td>1.950000e+03</td>\n",
       "      <td>1.950000e+03</td>\n",
       "      <td>1.950000e+03</td>\n",
       "      <td>1.950000e+03</td>\n",
       "      <td>1.950000e+03</td>\n",
       "      <td>1.950000e+03</td>\n",
       "      <td>1.950000e+03</td>\n",
       "      <td>1.950000e+03</td>\n",
       "      <td>1.950000e+03</td>\n",
       "      <td>1.950000e+03</td>\n",
       "    </tr>\n",
       "    <tr>\n",
       "      <th>mean</th>\n",
       "      <td>-1.933496e-16</td>\n",
       "      <td>1.933496e-16</td>\n",
       "      <td>3.079019e-16</td>\n",
       "      <td>-1.715437e-16</td>\n",
       "      <td>-1.360052e-15</td>\n",
       "      <td>-8.516720e-15</td>\n",
       "      <td>8.520535e-15</td>\n",
       "      <td>-1.701374e-15</td>\n",
       "      <td>1.701374e-15</td>\n",
       "      <td>-5.282726e-15</td>\n",
       "      <td>...</td>\n",
       "      <td>-3.329957e-15</td>\n",
       "      <td>3.330641e-15</td>\n",
       "      <td>-9.123756e-18</td>\n",
       "      <td>-1.109084e-16</td>\n",
       "      <td>1.262466e-15</td>\n",
       "      <td>-2.381969e-15</td>\n",
       "      <td>-3.569879e-15</td>\n",
       "      <td>-1.231323e-15</td>\n",
       "      <td>9.936069e-16</td>\n",
       "      <td>-1.183889e-15</td>\n",
       "    </tr>\n",
       "    <tr>\n",
       "      <th>std</th>\n",
       "      <td>1.000257e+00</td>\n",
       "      <td>1.000257e+00</td>\n",
       "      <td>1.000257e+00</td>\n",
       "      <td>1.000257e+00</td>\n",
       "      <td>1.000257e+00</td>\n",
       "      <td>1.000257e+00</td>\n",
       "      <td>1.000257e+00</td>\n",
       "      <td>1.000257e+00</td>\n",
       "      <td>1.000257e+00</td>\n",
       "      <td>1.000257e+00</td>\n",
       "      <td>...</td>\n",
       "      <td>1.000257e+00</td>\n",
       "      <td>1.000257e+00</td>\n",
       "      <td>1.000257e+00</td>\n",
       "      <td>1.000257e+00</td>\n",
       "      <td>1.000257e+00</td>\n",
       "      <td>1.000257e+00</td>\n",
       "      <td>1.000257e+00</td>\n",
       "      <td>1.000257e+00</td>\n",
       "      <td>1.000257e+00</td>\n",
       "      <td>1.000257e+00</td>\n",
       "    </tr>\n",
       "    <tr>\n",
       "      <th>min</th>\n",
       "      <td>-9.716828e-01</td>\n",
       "      <td>-1.029142e+00</td>\n",
       "      <td>-2.055573e+00</td>\n",
       "      <td>-2.762150e+00</td>\n",
       "      <td>-1.778860e+00</td>\n",
       "      <td>-2.059596e+00</td>\n",
       "      <td>-4.855321e-01</td>\n",
       "      <td>-3.656787e-01</td>\n",
       "      <td>-2.734641e+00</td>\n",
       "      <td>-2.419677e+00</td>\n",
       "      <td>...</td>\n",
       "      <td>-4.443499e+00</td>\n",
       "      <td>-2.250479e-01</td>\n",
       "      <td>-1.142587e+00</td>\n",
       "      <td>-1.040067e+00</td>\n",
       "      <td>-1.442448e+00</td>\n",
       "      <td>-2.035956e+00</td>\n",
       "      <td>-1.703636e-01</td>\n",
       "      <td>-4.339353e-01</td>\n",
       "      <td>-6.809394e-02</td>\n",
       "      <td>-5.555556e-02</td>\n",
       "    </tr>\n",
       "    <tr>\n",
       "      <th>25%</th>\n",
       "      <td>-9.716828e-01</td>\n",
       "      <td>-1.029142e+00</td>\n",
       "      <td>-6.851128e-01</td>\n",
       "      <td>-8.128284e-01</td>\n",
       "      <td>-8.070566e-01</td>\n",
       "      <td>4.855321e-01</td>\n",
       "      <td>-4.855321e-01</td>\n",
       "      <td>-3.656787e-01</td>\n",
       "      <td>3.656787e-01</td>\n",
       "      <td>-7.291109e-01</td>\n",
       "      <td>...</td>\n",
       "      <td>2.250479e-01</td>\n",
       "      <td>-2.250479e-01</td>\n",
       "      <td>-1.142587e+00</td>\n",
       "      <td>-1.040067e+00</td>\n",
       "      <td>-1.442448e+00</td>\n",
       "      <td>4.911696e-01</td>\n",
       "      <td>-1.703636e-01</td>\n",
       "      <td>-4.339353e-01</td>\n",
       "      <td>-6.809394e-02</td>\n",
       "      <td>-5.555556e-02</td>\n",
       "    </tr>\n",
       "    <tr>\n",
       "      <th>50%</th>\n",
       "      <td>-9.716828e-01</td>\n",
       "      <td>9.716828e-01</td>\n",
       "      <td>-2.282929e-01</td>\n",
       "      <td>-5.475873e-02</td>\n",
       "      <td>-1.342698e-01</td>\n",
       "      <td>4.855321e-01</td>\n",
       "      <td>-4.855321e-01</td>\n",
       "      <td>-3.656787e-01</td>\n",
       "      <td>3.656787e-01</td>\n",
       "      <td>-7.291109e-01</td>\n",
       "      <td>...</td>\n",
       "      <td>2.250479e-01</td>\n",
       "      <td>-2.250479e-01</td>\n",
       "      <td>-2.071154e-02</td>\n",
       "      <td>4.392407e-01</td>\n",
       "      <td>5.300441e-01</td>\n",
       "      <td>4.911696e-01</td>\n",
       "      <td>-1.703636e-01</td>\n",
       "      <td>-4.339353e-01</td>\n",
       "      <td>-6.809394e-02</td>\n",
       "      <td>-5.555556e-02</td>\n",
       "    </tr>\n",
       "    <tr>\n",
       "      <th>75%</th>\n",
       "      <td>1.029142e+00</td>\n",
       "      <td>9.716828e-01</td>\n",
       "      <td>6.853471e-01</td>\n",
       "      <td>7.033110e-01</td>\n",
       "      <td>8.001563e-01</td>\n",
       "      <td>4.855321e-01</td>\n",
       "      <td>-4.855321e-01</td>\n",
       "      <td>-3.656787e-01</td>\n",
       "      <td>3.656787e-01</td>\n",
       "      <td>9.614555e-01</td>\n",
       "      <td>...</td>\n",
       "      <td>2.250479e-01</td>\n",
       "      <td>-2.250479e-01</td>\n",
       "      <td>1.101164e+00</td>\n",
       "      <td>4.392407e-01</td>\n",
       "      <td>5.300441e-01</td>\n",
       "      <td>4.911696e-01</td>\n",
       "      <td>-1.703636e-01</td>\n",
       "      <td>-4.339353e-01</td>\n",
       "      <td>-6.809394e-02</td>\n",
       "      <td>-5.555556e-02</td>\n",
       "    </tr>\n",
       "    <tr>\n",
       "      <th>max</th>\n",
       "      <td>1.029142e+00</td>\n",
       "      <td>9.716828e-01</td>\n",
       "      <td>2.741037e+00</td>\n",
       "      <td>2.977520e+00</td>\n",
       "      <td>2.930648e+00</td>\n",
       "      <td>4.855321e-01</td>\n",
       "      <td>2.059596e+00</td>\n",
       "      <td>2.734641e+00</td>\n",
       "      <td>3.656787e-01</td>\n",
       "      <td>9.614555e-01</td>\n",
       "      <td>...</td>\n",
       "      <td>2.250479e-01</td>\n",
       "      <td>4.443499e+00</td>\n",
       "      <td>2.223039e+00</td>\n",
       "      <td>1.918549e+00</td>\n",
       "      <td>4.475029e+00</td>\n",
       "      <td>4.911696e-01</td>\n",
       "      <td>5.869799e+00</td>\n",
       "      <td>2.304491e+00</td>\n",
       "      <td>1.468559e+01</td>\n",
       "      <td>1.800000e+01</td>\n",
       "    </tr>\n",
       "  </tbody>\n",
       "</table>\n",
       "<p>8 rows × 25 columns</p>\n",
       "</div>"
      ],
      "text/plain": [
       "                 0             1             2             3             4   \\\n",
       "count  1.950000e+03  1.950000e+03  1.950000e+03  1.950000e+03  1.950000e+03   \n",
       "mean  -1.933496e-16  1.933496e-16  3.079019e-16 -1.715437e-16 -1.360052e-15   \n",
       "std    1.000257e+00  1.000257e+00  1.000257e+00  1.000257e+00  1.000257e+00   \n",
       "min   -9.716828e-01 -1.029142e+00 -2.055573e+00 -2.762150e+00 -1.778860e+00   \n",
       "25%   -9.716828e-01 -1.029142e+00 -6.851128e-01 -8.128284e-01 -8.070566e-01   \n",
       "50%   -9.716828e-01  9.716828e-01 -2.282929e-01 -5.475873e-02 -1.342698e-01   \n",
       "75%    1.029142e+00  9.716828e-01  6.853471e-01  7.033110e-01  8.001563e-01   \n",
       "max    1.029142e+00  9.716828e-01  2.741037e+00  2.977520e+00  2.930648e+00   \n",
       "\n",
       "                 5             6             7             8             9   \\\n",
       "count  1.950000e+03  1.950000e+03  1.950000e+03  1.950000e+03  1.950000e+03   \n",
       "mean  -8.516720e-15  8.520535e-15 -1.701374e-15  1.701374e-15 -5.282726e-15   \n",
       "std    1.000257e+00  1.000257e+00  1.000257e+00  1.000257e+00  1.000257e+00   \n",
       "min   -2.059596e+00 -4.855321e-01 -3.656787e-01 -2.734641e+00 -2.419677e+00   \n",
       "25%    4.855321e-01 -4.855321e-01 -3.656787e-01  3.656787e-01 -7.291109e-01   \n",
       "50%    4.855321e-01 -4.855321e-01 -3.656787e-01  3.656787e-01 -7.291109e-01   \n",
       "75%    4.855321e-01 -4.855321e-01 -3.656787e-01  3.656787e-01  9.614555e-01   \n",
       "max    4.855321e-01  2.059596e+00  2.734641e+00  3.656787e-01  9.614555e-01   \n",
       "\n",
       "       ...            15            16            17            18  \\\n",
       "count  ...  1.950000e+03  1.950000e+03  1.950000e+03  1.950000e+03   \n",
       "mean   ... -3.329957e-15  3.330641e-15 -9.123756e-18 -1.109084e-16   \n",
       "std    ...  1.000257e+00  1.000257e+00  1.000257e+00  1.000257e+00   \n",
       "min    ... -4.443499e+00 -2.250479e-01 -1.142587e+00 -1.040067e+00   \n",
       "25%    ...  2.250479e-01 -2.250479e-01 -1.142587e+00 -1.040067e+00   \n",
       "50%    ...  2.250479e-01 -2.250479e-01 -2.071154e-02  4.392407e-01   \n",
       "75%    ...  2.250479e-01 -2.250479e-01  1.101164e+00  4.392407e-01   \n",
       "max    ...  2.250479e-01  4.443499e+00  2.223039e+00  1.918549e+00   \n",
       "\n",
       "                 19            20            21            22            23  \\\n",
       "count  1.950000e+03  1.950000e+03  1.950000e+03  1.950000e+03  1.950000e+03   \n",
       "mean   1.262466e-15 -2.381969e-15 -3.569879e-15 -1.231323e-15  9.936069e-16   \n",
       "std    1.000257e+00  1.000257e+00  1.000257e+00  1.000257e+00  1.000257e+00   \n",
       "min   -1.442448e+00 -2.035956e+00 -1.703636e-01 -4.339353e-01 -6.809394e-02   \n",
       "25%   -1.442448e+00  4.911696e-01 -1.703636e-01 -4.339353e-01 -6.809394e-02   \n",
       "50%    5.300441e-01  4.911696e-01 -1.703636e-01 -4.339353e-01 -6.809394e-02   \n",
       "75%    5.300441e-01  4.911696e-01 -1.703636e-01 -4.339353e-01 -6.809394e-02   \n",
       "max    4.475029e+00  4.911696e-01  5.869799e+00  2.304491e+00  1.468559e+01   \n",
       "\n",
       "                 24  \n",
       "count  1.950000e+03  \n",
       "mean  -1.183889e-15  \n",
       "std    1.000257e+00  \n",
       "min   -5.555556e-02  \n",
       "25%   -5.555556e-02  \n",
       "50%   -5.555556e-02  \n",
       "75%   -5.555556e-02  \n",
       "max    1.800000e+01  \n",
       "\n",
       "[8 rows x 25 columns]"
      ]
     },
     "execution_count": 41,
     "metadata": {},
     "output_type": "execute_result"
    }
   ],
   "source": [
    "# Descriptive Statistics of Scaled Data\n",
    "scaled_data_df = pd.DataFrame(scaled_data)\n",
    "scaled_data_df.describe()"
   ]
  },
  {
   "cell_type": "markdown",
   "id": "0b7386af",
   "metadata": {},
   "source": [
    "# Regression"
   ]
  },
  {
   "cell_type": "code",
   "execution_count": 42,
   "id": "d7003bd1",
   "metadata": {},
   "outputs": [
    {
     "name": "stdout",
     "output_type": "stream",
     "text": [
      "                            OLS Regression Results                            \n",
      "==============================================================================\n",
      "Dep. Variable:             NObeyesdad   R-squared:                       0.955\n",
      "Model:                            OLS   Adj. R-squared:                  0.954\n",
      "Method:                 Least Squares   F-statistic:                     2132.\n",
      "Date:                Thu, 18 May 2023   Prob (F-statistic):               0.00\n",
      "Time:                        13:08:53   Log-Likelihood:                -1139.8\n",
      "No. Observations:                1950   AIC:                             2320.\n",
      "Df Residuals:                    1930   BIC:                             2431.\n",
      "Df Model:                          19                                         \n",
      "Covariance Type:            nonrobust                                         \n",
      "====================================================================================================\n",
      "                                       coef    std err          t      P>|t|      [0.025      0.975]\n",
      "----------------------------------------------------------------------------------------------------\n",
      "const                                2.2812      0.079     28.988      0.000       2.127       2.436\n",
      "Gender_1                             1.1036      0.035     31.941      0.000       1.036       1.171\n",
      "Gender_2                             1.1776      0.048     24.711      0.000       1.084       1.271\n",
      "Age                                  0.0319      0.003     10.872      0.000       0.026       0.038\n",
      "Height                              -7.4891      0.173    -43.411      0.000      -7.827      -7.151\n",
      "Weight                               0.0764      0.001    135.864      0.000       0.075       0.078\n",
      "family_history_with_overweight_1     1.3001      0.044     29.636      0.000       1.214       1.386\n",
      "family_history_with_overweight_2     0.9811      0.040     24.234      0.000       0.902       1.060\n",
      "FAVC_1                               1.1217      0.041     27.131      0.000       1.041       1.203\n",
      "FAVC_2                               1.1595      0.044     26.260      0.000       1.073       1.246\n",
      "FCVC                                -0.0008      0.018     -0.043      0.966      -0.037       0.035\n",
      "NCP                                  0.0451      0.013      3.467      0.001       0.020       0.071\n",
      "CAEC                                -0.1432      0.023     -6.310      0.000      -0.188      -0.099\n",
      "SMOKE_1                              1.1856      0.048     24.596      0.000       1.091       1.280\n",
      "SMOKE_2                              1.0956      0.058     18.910      0.000       0.982       1.209\n",
      "CH2O                                 0.0078      0.015      0.520      0.603      -0.022       0.037\n",
      "SCC_1                                1.1693      0.046     25.246      0.000       1.078       1.260\n",
      "SCC_2                                1.1119      0.046     24.090      0.000       1.021       1.202\n",
      "FAF                                 -0.0798      0.012     -6.431      0.000      -0.104      -0.055\n",
      "TUE                                 -0.0042      0.015     -0.278      0.781      -0.034       0.026\n",
      "CALC                                -0.0907      0.021     -4.337      0.000      -0.132      -0.050\n",
      "MTRANS_1                             0.5415      0.049     11.075      0.000       0.446       0.637\n",
      "MTRANS_2                             0.4129      0.068      6.113      0.000       0.280       0.545\n",
      "MTRANS_3                             0.3300      0.055      6.008      0.000       0.222       0.438\n",
      "MTRANS_4                             0.4677      0.125      3.739      0.000       0.222       0.713\n",
      "MTRANS_5                             0.5292      0.149      3.547      0.000       0.237       0.822\n",
      "==============================================================================\n",
      "Omnibus:                       96.561   Durbin-Watson:                   1.284\n",
      "Prob(Omnibus):                  0.000   Jarque-Bera (JB):              233.141\n",
      "Skew:                          -0.277   Prob(JB):                     2.37e-51\n",
      "Kurtosis:                       4.601   Cond. No.                     4.03e+16\n",
      "==============================================================================\n",
      "\n",
      "Notes:\n",
      "[1] Standard Errors assume that the covariance matrix of the errors is correctly specified.\n",
      "[2] The smallest eigenvalue is 1.05e-26. This might indicate that there are\n",
      "strong multicollinearity problems or that the design matrix is singular.\n"
     ]
    }
   ],
   "source": [
    "# OLS\n",
    "\n",
    "X = data_ord_enc.iloc[:, :-1]\n",
    "y = data_ord_enc.iloc[:,-1]\n",
    "\n",
    "X = sm.add_constant(X)\n",
    "model = sm.OLS(y,X) \n",
    "results = model.fit()\n",
    "print(results.summary())"
   ]
  },
  {
   "cell_type": "code",
   "execution_count": 43,
   "id": "2b2fd83b",
   "metadata": {},
   "outputs": [
    {
     "name": "stdout",
     "output_type": "stream",
     "text": [
      "                            OLS Regression Results                            \n",
      "==============================================================================\n",
      "Dep. Variable:             NObeyesdad   R-squared:                       0.955\n",
      "Model:                            OLS   Adj. R-squared:                  0.954\n",
      "Method:                 Least Squares   F-statistic:                     2535.\n",
      "Date:                Thu, 18 May 2023   Prob (F-statistic):               0.00\n",
      "Time:                        13:09:09   Log-Likelihood:                -1140.0\n",
      "No. Observations:                1950   AIC:                             2314.\n",
      "Df Residuals:                    1933   BIC:                             2409.\n",
      "Df Model:                          16                                         \n",
      "Covariance Type:            nonrobust                                         \n",
      "====================================================================================================\n",
      "                                       coef    std err          t      P>|t|      [0.025      0.975]\n",
      "----------------------------------------------------------------------------------------------------\n",
      "const                                2.2808      0.078     29.301      0.000       2.128       2.433\n",
      "Gender_1                             1.1032      0.033     33.012      0.000       1.038       1.169\n",
      "Gender_2                             1.1775      0.048     24.778      0.000       1.084       1.271\n",
      "Age                                  0.0321      0.003     11.164      0.000       0.026       0.038\n",
      "Height                              -7.4846      0.172    -43.492      0.000      -7.822      -7.147\n",
      "Weight                               0.0764      0.001    139.738      0.000       0.075       0.078\n",
      "family_history_with_overweight_1     1.3002      0.043     29.964      0.000       1.215       1.385\n",
      "family_history_with_overweight_2     0.9806      0.040     24.473      0.000       0.902       1.059\n",
      "FAVC_1                               1.1223      0.041     27.424      0.000       1.042       1.203\n",
      "FAVC_2                               1.1585      0.044     26.499      0.000       1.073       1.244\n",
      "NCP                                  0.0453      0.013      3.492      0.000       0.020       0.071\n",
      "CAEC                                -0.1447      0.022     -6.442      0.000      -0.189      -0.101\n",
      "SMOKE_1                              1.1871      0.048     24.840      0.000       1.093       1.281\n",
      "SMOKE_2                              1.0936      0.058     19.011      0.000       0.981       1.206\n",
      "SCC_1                                1.1685      0.046     25.370      0.000       1.078       1.259\n",
      "SCC_2                                1.1122      0.046     24.404      0.000       1.023       1.202\n",
      "FAF                                 -0.0792      0.012     -6.435      0.000      -0.103      -0.055\n",
      "CALC                                -0.0898      0.021     -4.308      0.000      -0.131      -0.049\n",
      "MTRANS_1                             0.5408      0.049     11.082      0.000       0.445       0.636\n",
      "MTRANS_2                             0.4110      0.067      6.121      0.000       0.279       0.543\n",
      "MTRANS_3                             0.3284      0.055      5.997      0.000       0.221       0.436\n",
      "MTRANS_4                             0.4700      0.125      3.766      0.000       0.225       0.715\n",
      "MTRANS_5                             0.5306      0.149      3.560      0.000       0.238       0.823\n",
      "==============================================================================\n",
      "Omnibus:                       97.761   Durbin-Watson:                   1.285\n",
      "Prob(Omnibus):                  0.000   Jarque-Bera (JB):              234.969\n",
      "Skew:                          -0.283   Prob(JB):                     9.49e-52\n",
      "Kurtosis:                       4.603   Cond. No.                     6.13e+18\n",
      "==============================================================================\n",
      "\n",
      "Notes:\n",
      "[1] Standard Errors assume that the covariance matrix of the errors is correctly specified.\n",
      "[2] The smallest eigenvalue is 4.53e-31. This might indicate that there are\n",
      "strong multicollinearity problems or that the design matrix is singular.\n"
     ]
    }
   ],
   "source": [
    "# New model without FCVC, CH2O, and TUE columns\n",
    "X2 = data_ord_enc.drop(['FCVC', 'CH2O', 'TUE', 'NObeyesdad'], axis=1)\n",
    "y = data_ord_enc.iloc[:,-1]\n",
    "\n",
    "X2 = sm.add_constant(X2)\n",
    "model = sm.OLS(y,X2) \n",
    "results = model.fit()\n",
    "print(results.summary())"
   ]
  },
  {
   "cell_type": "code",
   "execution_count": 44,
   "id": "b0079f9b",
   "metadata": {},
   "outputs": [
    {
     "data": {
      "text/plain": [
       "const                               2.280769\n",
       "Gender_1                            1.103247\n",
       "Gender_2                            1.177521\n",
       "Age                                 0.032054\n",
       "Height                             -7.484622\n",
       "Weight                              0.076427\n",
       "family_history_with_overweight_1    1.300206\n",
       "family_history_with_overweight_2    0.980563\n",
       "FAVC_1                              1.122252\n",
       "FAVC_2                              1.158516\n",
       "NCP                                 0.045345\n",
       "CAEC                               -0.144659\n",
       "SMOKE_1                             1.187133\n",
       "SMOKE_2                             1.093636\n",
       "SCC_1                               1.168538\n",
       "SCC_2                               1.112230\n",
       "FAF                                -0.079234\n",
       "CALC                               -0.089802\n",
       "MTRANS_1                            0.540775\n",
       "MTRANS_2                            0.410988\n",
       "MTRANS_3                            0.328396\n",
       "MTRANS_4                            0.469979\n",
       "MTRANS_5                            0.530630\n",
       "dtype: float64"
      ]
     },
     "execution_count": 44,
     "metadata": {},
     "output_type": "execute_result"
    }
   ],
   "source": [
    "results.params"
   ]
  },
  {
   "cell_type": "code",
   "execution_count": 45,
   "id": "e23ba90a",
   "metadata": {},
   "outputs": [],
   "source": [
    "X2 = data_ord_enc.drop(['FCVC', 'CH2O', 'TUE', 'NObeyesdad'], axis=1)\n",
    "y = data_ord_enc.iloc[:,-1].values.reshape(-1,1)"
   ]
  },
  {
   "cell_type": "code",
   "execution_count": 46,
   "id": "2b1d7eaa",
   "metadata": {},
   "outputs": [],
   "source": [
    "X_train, X_test, y_train, y_test = train_test_split(X2, y, test_size=.3, random_state=0)"
   ]
  },
  {
   "cell_type": "code",
   "execution_count": 47,
   "id": "04c6ec8f",
   "metadata": {},
   "outputs": [],
   "source": [
    "lr = LinearRegression()\n",
    "model = lr.fit(X_train,y_train)"
   ]
  },
  {
   "cell_type": "code",
   "execution_count": 48,
   "id": "b9081f55",
   "metadata": {},
   "outputs": [],
   "source": [
    "\n",
    "predictions = lr.predict(X_test)\n",
    "\n",
    "prediction = np.around(predictions)\n",
    "prediction = prediction.astype(int)"
   ]
  },
  {
   "cell_type": "code",
   "execution_count": 49,
   "id": "06c24810",
   "metadata": {},
   "outputs": [
    {
     "name": "stdout",
     "output_type": "stream",
     "text": [
      "intercept:  [8.49751217]\n",
      "coefficient:  [[-3.35643226e-02  3.35643226e-02  3.43088228e-02 -7.45928391e+00\n",
      "   7.59449576e-02  1.71416948e-01 -1.71416948e-01 -2.05520883e-02\n",
      "   2.05520883e-02  4.13876925e-02 -1.48308145e-01  6.68225265e-03\n",
      "  -6.68225265e-03  5.64057868e-03 -5.64057868e-03 -7.70810635e-02\n",
      "  -9.74221514e-02  4.36452986e-02  1.36285569e-02 -1.98593784e-01\n",
      "  -9.52483568e-02  2.36568285e-01]]\n"
     ]
    }
   ],
   "source": [
    "print('intercept: ', lr.intercept_)\n",
    "print('coefficient: ', lr.coef_)"
   ]
  },
  {
   "cell_type": "code",
   "execution_count": 50,
   "id": "9ab185f4",
   "metadata": {},
   "outputs": [
    {
     "data": {
      "text/plain": [
       "Index(['Gender_1', 'Gender_2', 'Age', 'Height', 'Weight',\n",
       "       'family_history_with_overweight_1', 'family_history_with_overweight_2',\n",
       "       'FAVC_1', 'FAVC_2', 'NCP', 'CAEC', 'SMOKE_1', 'SMOKE_2', 'SCC_1',\n",
       "       'SCC_2', 'FAF', 'CALC', 'MTRANS_1', 'MTRANS_2', 'MTRANS_3', 'MTRANS_4',\n",
       "       'MTRANS_5'],\n",
       "      dtype='object')"
      ]
     },
     "execution_count": 50,
     "metadata": {},
     "output_type": "execute_result"
    }
   ],
   "source": [
    "X_test.columns"
   ]
  },
  {
   "cell_type": "code",
   "execution_count": 51,
   "id": "d2511b5c",
   "metadata": {},
   "outputs": [
    {
     "data": {
      "text/plain": [
       "<module 'matplotlib.pyplot' from 'C:\\\\Users\\\\SHIVAM GUPTA\\\\anaconda3\\\\lib\\\\site-packages\\\\matplotlib\\\\pyplot.py'>"
      ]
     },
     "execution_count": 51,
     "metadata": {},
     "output_type": "execute_result"
    }
   ],
   "source": [
    "reload(plt)"
   ]
  },
  {
   "cell_type": "code",
   "execution_count": 52,
   "id": "34d6cff6",
   "metadata": {},
   "outputs": [
    {
     "name": "stdout",
     "output_type": "stream",
     "text": [
      "MAE: 0.21\n"
     ]
    }
   ],
   "source": [
    "# Performance Metrics\n",
    "# MAE\n",
    "MAE = mean_absolute_error(y_test, prediction)\n",
    "print('MAE: {:0.2f}'.format(MAE))"
   ]
  },
  {
   "cell_type": "code",
   "execution_count": 53,
   "id": "21b43f7b",
   "metadata": {},
   "outputs": [
    {
     "name": "stdout",
     "output_type": "stream",
     "text": [
      "r2_score: 0.95\n"
     ]
    }
   ],
   "source": [
    "# r2_score: 1 is perfect prediction\n",
    "r2_score = r2_score(y_test, prediction)\n",
    "print('r2_score: {:0.2f}'.format(r2_score))"
   ]
  },
  {
   "cell_type": "code",
   "execution_count": 54,
   "id": "b0904600",
   "metadata": {},
   "outputs": [
    {
     "name": "stdout",
     "output_type": "stream",
     "text": [
      "Cross Validation: [0.94246516 0.93980695 0.95957854 0.95475372 0.93143792 0.96420775\n",
      " 0.94449866 0.96796544 0.95833539 0.94054892]\n",
      "0.95 accuracy with a standard deviation of 0.01\n"
     ]
    }
   ],
   "source": [
    "# Cross Validation\n",
    "result_cv = cross_val_score(lr, X_test, y_test, cv = 10)\n",
    "print('Cross Validation: {}'.format(result_cv))\n",
    "print(\"%0.2f accuracy with a standard deviation of %0.2f\" % (result_cv.mean(), result_cv.std()))"
   ]
  },
  {
   "cell_type": "code",
   "execution_count": 55,
   "id": "f8e41ab2",
   "metadata": {},
   "outputs": [
    {
     "data": {
      "text/plain": [
       "array([[2, 2],\n",
       "       [5, 5],\n",
       "       [5, 5],\n",
       "       ...,\n",
       "       [6, 6],\n",
       "       [5, 5],\n",
       "       [3, 2]])"
      ]
     },
     "execution_count": 55,
     "metadata": {},
     "output_type": "execute_result"
    }
   ],
   "source": [
    "result_lr = np.concatenate((prediction.reshape(len(prediction),1),y_test.reshape(len(y_test),1)),1)\n",
    "result_lr"
   ]
  },
  {
   "cell_type": "code",
   "execution_count": 56,
   "id": "c796b3f4",
   "metadata": {},
   "outputs": [],
   "source": [
    "# Reverse the change made with the one-hot encoder\n",
    "\n",
    "def undummify(data_ord_enc, prefix_sep = '_'):\n",
    "    cols2collapse = {\n",
    "        item.split(prefix_sep)[0]: (prefix_sep in item) for item in data_ord_enc.columns\n",
    "    }\n",
    "    series_list = []\n",
    "    for col, needs_to_collapse in cols2collapse.items():\n",
    "        if needs_to_collapse:\n",
    "            undummified = (\n",
    "                data_ord_enc.filter(like=col)\n",
    "                .idxmax(axis=1)\n",
    "                .apply(lambda x: x.split(prefix_sep, maxsplit=1)[1])\n",
    "                .rename(col)\n",
    "            )\n",
    "            series_list.append(undummified)\n",
    "        else:\n",
    "            series_list.append(data_ord_enc[col])\n",
    "    undummified_df = pd.concat(series_list, axis=1)\n",
    "    return undummified_df"
   ]
  },
  {
   "cell_type": "code",
   "execution_count": 57,
   "id": "afbd8607",
   "metadata": {},
   "outputs": [
    {
     "data": {
      "text/html": [
       "<div>\n",
       "<style scoped>\n",
       "    .dataframe tbody tr th:only-of-type {\n",
       "        vertical-align: middle;\n",
       "    }\n",
       "\n",
       "    .dataframe tbody tr th {\n",
       "        vertical-align: top;\n",
       "    }\n",
       "\n",
       "    .dataframe thead th {\n",
       "        text-align: right;\n",
       "    }\n",
       "</style>\n",
       "<table border=\"1\" class=\"dataframe\">\n",
       "  <thead>\n",
       "    <tr style=\"text-align: right;\">\n",
       "      <th></th>\n",
       "      <th>Gender</th>\n",
       "      <th>Age</th>\n",
       "      <th>Height</th>\n",
       "      <th>Weight</th>\n",
       "      <th>family</th>\n",
       "      <th>FAVC</th>\n",
       "      <th>NCP</th>\n",
       "      <th>CAEC</th>\n",
       "      <th>SMOKE</th>\n",
       "      <th>SCC</th>\n",
       "      <th>FAF</th>\n",
       "      <th>CALC</th>\n",
       "      <th>MTRANS</th>\n",
       "    </tr>\n",
       "  </thead>\n",
       "  <tbody>\n",
       "    <tr>\n",
       "      <th>19</th>\n",
       "      <td>1</td>\n",
       "      <td>23</td>\n",
       "      <td>1.65</td>\n",
       "      <td>70</td>\n",
       "      <td>history_with_overweight_1</td>\n",
       "      <td>1</td>\n",
       "      <td>1</td>\n",
       "      <td>1</td>\n",
       "      <td>1</td>\n",
       "      <td>1</td>\n",
       "      <td>0</td>\n",
       "      <td>1</td>\n",
       "      <td>1</td>\n",
       "    </tr>\n",
       "    <tr>\n",
       "      <th>1664</th>\n",
       "      <td>2</td>\n",
       "      <td>27</td>\n",
       "      <td>1.65</td>\n",
       "      <td>100</td>\n",
       "      <td>history_with_overweight_1</td>\n",
       "      <td>2</td>\n",
       "      <td>2</td>\n",
       "      <td>1</td>\n",
       "      <td>1</td>\n",
       "      <td>1</td>\n",
       "      <td>1</td>\n",
       "      <td>0</td>\n",
       "      <td>1</td>\n",
       "    </tr>\n",
       "    <tr>\n",
       "      <th>1766</th>\n",
       "      <td>2</td>\n",
       "      <td>31</td>\n",
       "      <td>1.86</td>\n",
       "      <td>126</td>\n",
       "      <td>history_with_overweight_1</td>\n",
       "      <td>2</td>\n",
       "      <td>3</td>\n",
       "      <td>1</td>\n",
       "      <td>1</td>\n",
       "      <td>1</td>\n",
       "      <td>1</td>\n",
       "      <td>1</td>\n",
       "      <td>1</td>\n",
       "    </tr>\n",
       "    <tr>\n",
       "      <th>203</th>\n",
       "      <td>2</td>\n",
       "      <td>29</td>\n",
       "      <td>1.69</td>\n",
       "      <td>90</td>\n",
       "      <td>history_with_overweight_1</td>\n",
       "      <td>1</td>\n",
       "      <td>3</td>\n",
       "      <td>1</td>\n",
       "      <td>1</td>\n",
       "      <td>1</td>\n",
       "      <td>1</td>\n",
       "      <td>1</td>\n",
       "      <td>3</td>\n",
       "    </tr>\n",
       "    <tr>\n",
       "      <th>357</th>\n",
       "      <td>1</td>\n",
       "      <td>17</td>\n",
       "      <td>1.70</td>\n",
       "      <td>56</td>\n",
       "      <td>history_with_overweight_1</td>\n",
       "      <td>2</td>\n",
       "      <td>3</td>\n",
       "      <td>1</td>\n",
       "      <td>1</td>\n",
       "      <td>1</td>\n",
       "      <td>1</td>\n",
       "      <td>0</td>\n",
       "      <td>3</td>\n",
       "    </tr>\n",
       "    <tr>\n",
       "      <th>...</th>\n",
       "      <td>...</td>\n",
       "      <td>...</td>\n",
       "      <td>...</td>\n",
       "      <td>...</td>\n",
       "      <td>...</td>\n",
       "      <td>...</td>\n",
       "      <td>...</td>\n",
       "      <td>...</td>\n",
       "      <td>...</td>\n",
       "      <td>...</td>\n",
       "      <td>...</td>\n",
       "      <td>...</td>\n",
       "      <td>...</td>\n",
       "    </tr>\n",
       "    <tr>\n",
       "      <th>555</th>\n",
       "      <td>2</td>\n",
       "      <td>18</td>\n",
       "      <td>1.75</td>\n",
       "      <td>51</td>\n",
       "      <td>history_with_overweight_2</td>\n",
       "      <td>2</td>\n",
       "      <td>3</td>\n",
       "      <td>1</td>\n",
       "      <td>1</td>\n",
       "      <td>1</td>\n",
       "      <td>1</td>\n",
       "      <td>1</td>\n",
       "      <td>1</td>\n",
       "    </tr>\n",
       "    <tr>\n",
       "      <th>1047</th>\n",
       "      <td>2</td>\n",
       "      <td>20</td>\n",
       "      <td>1.70</td>\n",
       "      <td>79</td>\n",
       "      <td>history_with_overweight_1</td>\n",
       "      <td>1</td>\n",
       "      <td>3</td>\n",
       "      <td>1</td>\n",
       "      <td>1</td>\n",
       "      <td>1</td>\n",
       "      <td>2</td>\n",
       "      <td>1</td>\n",
       "      <td>1</td>\n",
       "    </tr>\n",
       "    <tr>\n",
       "      <th>1863</th>\n",
       "      <td>1</td>\n",
       "      <td>19</td>\n",
       "      <td>1.67</td>\n",
       "      <td>125</td>\n",
       "      <td>history_with_overweight_1</td>\n",
       "      <td>2</td>\n",
       "      <td>3</td>\n",
       "      <td>1</td>\n",
       "      <td>1</td>\n",
       "      <td>1</td>\n",
       "      <td>1</td>\n",
       "      <td>1</td>\n",
       "      <td>1</td>\n",
       "    </tr>\n",
       "    <tr>\n",
       "      <th>1602</th>\n",
       "      <td>2</td>\n",
       "      <td>30</td>\n",
       "      <td>1.76</td>\n",
       "      <td>112</td>\n",
       "      <td>history_with_overweight_1</td>\n",
       "      <td>2</td>\n",
       "      <td>3</td>\n",
       "      <td>1</td>\n",
       "      <td>1</td>\n",
       "      <td>1</td>\n",
       "      <td>0</td>\n",
       "      <td>1</td>\n",
       "      <td>3</td>\n",
       "    </tr>\n",
       "    <tr>\n",
       "      <th>770</th>\n",
       "      <td>2</td>\n",
       "      <td>21</td>\n",
       "      <td>1.61</td>\n",
       "      <td>68</td>\n",
       "      <td>history_with_overweight_1</td>\n",
       "      <td>2</td>\n",
       "      <td>4</td>\n",
       "      <td>0</td>\n",
       "      <td>1</td>\n",
       "      <td>1</td>\n",
       "      <td>1</td>\n",
       "      <td>1</td>\n",
       "      <td>1</td>\n",
       "    </tr>\n",
       "  </tbody>\n",
       "</table>\n",
       "<p>585 rows × 13 columns</p>\n",
       "</div>"
      ],
      "text/plain": [
       "     Gender  Age  Height  Weight                     family FAVC  NCP  CAEC  \\\n",
       "19        1   23    1.65      70  history_with_overweight_1    1    1     1   \n",
       "1664      2   27    1.65     100  history_with_overweight_1    2    2     1   \n",
       "1766      2   31    1.86     126  history_with_overweight_1    2    3     1   \n",
       "203       2   29    1.69      90  history_with_overweight_1    1    3     1   \n",
       "357       1   17    1.70      56  history_with_overweight_1    2    3     1   \n",
       "...     ...  ...     ...     ...                        ...  ...  ...   ...   \n",
       "555       2   18    1.75      51  history_with_overweight_2    2    3     1   \n",
       "1047      2   20    1.70      79  history_with_overweight_1    1    3     1   \n",
       "1863      1   19    1.67     125  history_with_overweight_1    2    3     1   \n",
       "1602      2   30    1.76     112  history_with_overweight_1    2    3     1   \n",
       "770       2   21    1.61      68  history_with_overweight_1    2    4     0   \n",
       "\n",
       "     SMOKE SCC  FAF  CALC MTRANS  \n",
       "19       1   1    0     1      1  \n",
       "1664     1   1    1     0      1  \n",
       "1766     1   1    1     1      1  \n",
       "203      1   1    1     1      3  \n",
       "357      1   1    1     0      3  \n",
       "...    ...  ..  ...   ...    ...  \n",
       "555      1   1    1     1      1  \n",
       "1047     1   1    2     1      1  \n",
       "1863     1   1    1     1      1  \n",
       "1602     1   1    0     1      3  \n",
       "770      1   1    1     1      1  \n",
       "\n",
       "[585 rows x 13 columns]"
      ]
     },
     "execution_count": 57,
     "metadata": {},
     "output_type": "execute_result"
    }
   ],
   "source": [
    "X_reverse = undummify(X_test)\n",
    "X_reverse"
   ]
  },
  {
   "cell_type": "code",
   "execution_count": 58,
   "id": "296b87fe",
   "metadata": {},
   "outputs": [
    {
     "data": {
      "text/html": [
       "<div>\n",
       "<style scoped>\n",
       "    .dataframe tbody tr th:only-of-type {\n",
       "        vertical-align: middle;\n",
       "    }\n",
       "\n",
       "    .dataframe tbody tr th {\n",
       "        vertical-align: top;\n",
       "    }\n",
       "\n",
       "    .dataframe thead th {\n",
       "        text-align: right;\n",
       "    }\n",
       "</style>\n",
       "<table border=\"1\" class=\"dataframe\">\n",
       "  <thead>\n",
       "    <tr style=\"text-align: right;\">\n",
       "      <th></th>\n",
       "      <th>prediction</th>\n",
       "      <th>y_test</th>\n",
       "      <th>Gender</th>\n",
       "      <th>Age</th>\n",
       "      <th>Height</th>\n",
       "      <th>Weight</th>\n",
       "      <th>family</th>\n",
       "      <th>FAVC</th>\n",
       "      <th>NCP</th>\n",
       "      <th>CAEC</th>\n",
       "      <th>SMOKE</th>\n",
       "      <th>SCC</th>\n",
       "      <th>FAF</th>\n",
       "      <th>CALC</th>\n",
       "      <th>MTRANS</th>\n",
       "    </tr>\n",
       "  </thead>\n",
       "  <tbody>\n",
       "    <tr>\n",
       "      <th>0</th>\n",
       "      <td>2</td>\n",
       "      <td>2</td>\n",
       "      <td>1</td>\n",
       "      <td>23</td>\n",
       "      <td>1.65</td>\n",
       "      <td>70</td>\n",
       "      <td>history_with_overweight_1</td>\n",
       "      <td>1</td>\n",
       "      <td>1</td>\n",
       "      <td>1</td>\n",
       "      <td>1</td>\n",
       "      <td>1</td>\n",
       "      <td>0</td>\n",
       "      <td>1</td>\n",
       "      <td>1</td>\n",
       "    </tr>\n",
       "    <tr>\n",
       "      <th>1</th>\n",
       "      <td>5</td>\n",
       "      <td>5</td>\n",
       "      <td>2</td>\n",
       "      <td>27</td>\n",
       "      <td>1.65</td>\n",
       "      <td>100</td>\n",
       "      <td>history_with_overweight_1</td>\n",
       "      <td>2</td>\n",
       "      <td>2</td>\n",
       "      <td>1</td>\n",
       "      <td>1</td>\n",
       "      <td>1</td>\n",
       "      <td>1</td>\n",
       "      <td>0</td>\n",
       "      <td>1</td>\n",
       "    </tr>\n",
       "    <tr>\n",
       "      <th>2</th>\n",
       "      <td>5</td>\n",
       "      <td>5</td>\n",
       "      <td>2</td>\n",
       "      <td>31</td>\n",
       "      <td>1.86</td>\n",
       "      <td>126</td>\n",
       "      <td>history_with_overweight_1</td>\n",
       "      <td>2</td>\n",
       "      <td>3</td>\n",
       "      <td>1</td>\n",
       "      <td>1</td>\n",
       "      <td>1</td>\n",
       "      <td>1</td>\n",
       "      <td>1</td>\n",
       "      <td>1</td>\n",
       "    </tr>\n",
       "    <tr>\n",
       "      <th>3</th>\n",
       "      <td>4</td>\n",
       "      <td>4</td>\n",
       "      <td>2</td>\n",
       "      <td>29</td>\n",
       "      <td>1.69</td>\n",
       "      <td>90</td>\n",
       "      <td>history_with_overweight_1</td>\n",
       "      <td>1</td>\n",
       "      <td>3</td>\n",
       "      <td>1</td>\n",
       "      <td>1</td>\n",
       "      <td>1</td>\n",
       "      <td>1</td>\n",
       "      <td>1</td>\n",
       "      <td>3</td>\n",
       "    </tr>\n",
       "    <tr>\n",
       "      <th>4</th>\n",
       "      <td>1</td>\n",
       "      <td>1</td>\n",
       "      <td>1</td>\n",
       "      <td>17</td>\n",
       "      <td>1.70</td>\n",
       "      <td>56</td>\n",
       "      <td>history_with_overweight_1</td>\n",
       "      <td>2</td>\n",
       "      <td>3</td>\n",
       "      <td>1</td>\n",
       "      <td>1</td>\n",
       "      <td>1</td>\n",
       "      <td>1</td>\n",
       "      <td>0</td>\n",
       "      <td>3</td>\n",
       "    </tr>\n",
       "    <tr>\n",
       "      <th>...</th>\n",
       "      <td>...</td>\n",
       "      <td>...</td>\n",
       "      <td>...</td>\n",
       "      <td>...</td>\n",
       "      <td>...</td>\n",
       "      <td>...</td>\n",
       "      <td>...</td>\n",
       "      <td>...</td>\n",
       "      <td>...</td>\n",
       "      <td>...</td>\n",
       "      <td>...</td>\n",
       "      <td>...</td>\n",
       "      <td>...</td>\n",
       "      <td>...</td>\n",
       "      <td>...</td>\n",
       "    </tr>\n",
       "    <tr>\n",
       "      <th>580</th>\n",
       "      <td>0</td>\n",
       "      <td>0</td>\n",
       "      <td>2</td>\n",
       "      <td>18</td>\n",
       "      <td>1.75</td>\n",
       "      <td>51</td>\n",
       "      <td>history_with_overweight_2</td>\n",
       "      <td>2</td>\n",
       "      <td>3</td>\n",
       "      <td>1</td>\n",
       "      <td>1</td>\n",
       "      <td>1</td>\n",
       "      <td>1</td>\n",
       "      <td>1</td>\n",
       "      <td>1</td>\n",
       "    </tr>\n",
       "    <tr>\n",
       "      <th>581</th>\n",
       "      <td>2</td>\n",
       "      <td>3</td>\n",
       "      <td>2</td>\n",
       "      <td>20</td>\n",
       "      <td>1.70</td>\n",
       "      <td>79</td>\n",
       "      <td>history_with_overweight_1</td>\n",
       "      <td>1</td>\n",
       "      <td>3</td>\n",
       "      <td>1</td>\n",
       "      <td>1</td>\n",
       "      <td>1</td>\n",
       "      <td>2</td>\n",
       "      <td>1</td>\n",
       "      <td>1</td>\n",
       "    </tr>\n",
       "    <tr>\n",
       "      <th>582</th>\n",
       "      <td>6</td>\n",
       "      <td>6</td>\n",
       "      <td>1</td>\n",
       "      <td>19</td>\n",
       "      <td>1.67</td>\n",
       "      <td>125</td>\n",
       "      <td>history_with_overweight_1</td>\n",
       "      <td>2</td>\n",
       "      <td>3</td>\n",
       "      <td>1</td>\n",
       "      <td>1</td>\n",
       "      <td>1</td>\n",
       "      <td>1</td>\n",
       "      <td>1</td>\n",
       "      <td>1</td>\n",
       "    </tr>\n",
       "    <tr>\n",
       "      <th>583</th>\n",
       "      <td>5</td>\n",
       "      <td>5</td>\n",
       "      <td>2</td>\n",
       "      <td>30</td>\n",
       "      <td>1.76</td>\n",
       "      <td>112</td>\n",
       "      <td>history_with_overweight_1</td>\n",
       "      <td>2</td>\n",
       "      <td>3</td>\n",
       "      <td>1</td>\n",
       "      <td>1</td>\n",
       "      <td>1</td>\n",
       "      <td>0</td>\n",
       "      <td>1</td>\n",
       "      <td>3</td>\n",
       "    </tr>\n",
       "    <tr>\n",
       "      <th>584</th>\n",
       "      <td>3</td>\n",
       "      <td>2</td>\n",
       "      <td>2</td>\n",
       "      <td>21</td>\n",
       "      <td>1.61</td>\n",
       "      <td>68</td>\n",
       "      <td>history_with_overweight_1</td>\n",
       "      <td>2</td>\n",
       "      <td>4</td>\n",
       "      <td>0</td>\n",
       "      <td>1</td>\n",
       "      <td>1</td>\n",
       "      <td>1</td>\n",
       "      <td>1</td>\n",
       "      <td>1</td>\n",
       "    </tr>\n",
       "  </tbody>\n",
       "</table>\n",
       "<p>585 rows × 15 columns</p>\n",
       "</div>"
      ],
      "text/plain": [
       "     prediction  y_test Gender  Age  Height  Weight  \\\n",
       "0             2       2      1   23    1.65      70   \n",
       "1             5       5      2   27    1.65     100   \n",
       "2             5       5      2   31    1.86     126   \n",
       "3             4       4      2   29    1.69      90   \n",
       "4             1       1      1   17    1.70      56   \n",
       "..          ...     ...    ...  ...     ...     ...   \n",
       "580           0       0      2   18    1.75      51   \n",
       "581           2       3      2   20    1.70      79   \n",
       "582           6       6      1   19    1.67     125   \n",
       "583           5       5      2   30    1.76     112   \n",
       "584           3       2      2   21    1.61      68   \n",
       "\n",
       "                        family FAVC  NCP  CAEC SMOKE SCC  FAF  CALC MTRANS  \n",
       "0    history_with_overweight_1    1    1     1     1   1    0     1      1  \n",
       "1    history_with_overweight_1    2    2     1     1   1    1     0      1  \n",
       "2    history_with_overweight_1    2    3     1     1   1    1     1      1  \n",
       "3    history_with_overweight_1    1    3     1     1   1    1     1      3  \n",
       "4    history_with_overweight_1    2    3     1     1   1    1     0      3  \n",
       "..                         ...  ...  ...   ...   ...  ..  ...   ...    ...  \n",
       "580  history_with_overweight_2    2    3     1     1   1    1     1      1  \n",
       "581  history_with_overweight_1    1    3     1     1   1    2     1      1  \n",
       "582  history_with_overweight_1    2    3     1     1   1    1     1      1  \n",
       "583  history_with_overweight_1    2    3     1     1   1    0     1      3  \n",
       "584  history_with_overweight_1    2    4     0     1   1    1     1      1  \n",
       "\n",
       "[585 rows x 15 columns]"
      ]
     },
     "execution_count": 58,
     "metadata": {},
     "output_type": "execute_result"
    }
   ],
   "source": [
    "# Concatenate the data to compare predictions with the real target.\n",
    "X_reverse = X_reverse.reset_index(drop = True)\n",
    "y_compare = pd.DataFrame(result_lr)\n",
    "y_compare = y_compare.rename(index=str, columns={0:'prediction', 1:'y_test'})\n",
    "y_compare = y_compare.reset_index(drop=True)\n",
    "\n",
    "final_result = pd.concat([y_compare, X_reverse], axis=1)\n",
    "final_result"
   ]
  },
  {
   "cell_type": "markdown",
   "id": "793c909b",
   "metadata": {},
   "source": [
    "# Classification"
   ]
  },
  {
   "cell_type": "code",
   "execution_count": 59,
   "id": "666da69f",
   "metadata": {},
   "outputs": [],
   "source": [
    "X_clas = scaled_data\n",
    "y_clas = data_ord_enc.iloc[:, -1] "
   ]
  },
  {
   "cell_type": "code",
   "execution_count": 60,
   "id": "03bb7e8b",
   "metadata": {},
   "outputs": [],
   "source": [
    "# Split again the training and test size\n",
    "scaled_X_train, scaled_X_test, y_train, y_test = train_test_split(X_clas, y_clas, test_size=.3, random_state=0)"
   ]
  },
  {
   "cell_type": "code",
   "execution_count": 61,
   "id": "50dbed26",
   "metadata": {},
   "outputs": [
    {
     "name": "stdout",
     "output_type": "stream",
     "text": [
      "[0.48905109 0.51094891 0.51094891 0.38686131 0.54014599 0.51470588\n",
      " 0.5        0.52205882 0.46323529 0.47794118]\n",
      "0.491589738085015\n"
     ]
    }
   ],
   "source": [
    "# Let's start with Naive Bayes\n",
    "gnb = GaussianNB()\n",
    "cv_gnb = cross_val_score(gnb,scaled_X_train,y_train,cv=10)\n",
    "print(cv_gnb)\n",
    "print(cv_gnb.mean())"
   ]
  },
  {
   "cell_type": "code",
   "execution_count": 62,
   "id": "50e4b881",
   "metadata": {},
   "outputs": [
    {
     "name": "stdout",
     "output_type": "stream",
     "text": [
      "[0.81751825 0.84671533 0.89051095 0.77372263 0.86861314 0.84558824\n",
      " 0.90441176 0.84558824 0.83088235 0.86029412]\n",
      "0.8483844997853156\n"
     ]
    }
   ],
   "source": [
    "# Logistic Regression\n",
    "lor = LogisticRegression(max_iter = 2000)\n",
    "cv_lor = cross_val_score(lor,scaled_X_train,y_train,cv=10)\n",
    "print(cv_lor)\n",
    "print(cv_lor.mean())"
   ]
  },
  {
   "cell_type": "code",
   "execution_count": 63,
   "id": "eb426e7b",
   "metadata": {},
   "outputs": [
    {
     "name": "stdout",
     "output_type": "stream",
     "text": [
      "[0.94890511 0.95620438 0.89781022 0.9270073  0.91240876 0.91176471\n",
      " 0.94117647 0.94117647 0.94117647 0.94852941]\n",
      "0.9326159295835122\n"
     ]
    }
   ],
   "source": [
    "# Decision Tree\n",
    "dt = tree.DecisionTreeClassifier(random_state = 1)\n",
    "cv_dt = cross_val_score(dt,scaled_X_train,y_train,cv=10)\n",
    "print(cv_dt)\n",
    "print(cv_dt.mean())"
   ]
  },
  {
   "cell_type": "code",
   "execution_count": 64,
   "id": "29fee8fa",
   "metadata": {},
   "outputs": [
    {
     "data": {
      "text/plain": [
       "DecisionTreeClassifier(random_state=1)"
      ]
     },
     "execution_count": 64,
     "metadata": {},
     "output_type": "execute_result"
    }
   ],
   "source": [
    "dt.fit(scaled_X_train,y_train)"
   ]
  },
  {
   "cell_type": "code",
   "execution_count": 65,
   "id": "97c19002",
   "metadata": {},
   "outputs": [
    {
     "name": "stdout",
     "output_type": "stream",
     "text": [
      "Accuracy of Decision Tree: 0.95\n"
     ]
    }
   ],
   "source": [
    "prediction_dt = dt.predict(scaled_X_test)\n",
    "print('Accuracy of Decision Tree: {:.2f}'.format(dt.score(scaled_X_test,y_test)))"
   ]
  },
  {
   "cell_type": "code",
   "execution_count": 66,
   "id": "9a3ad290",
   "metadata": {},
   "outputs": [
    {
     "data": {
      "image/png": "[encoded data removed]",
      "text/plain": [
       "<Figure size 432x288 with 2 Axes>"
      ]
     },
     "metadata": {
      "needs_background": "light"
     },
     "output_type": "display_data"
    }
   ],
   "source": [
    "# Confusion Matrix\n",
    "cmdt = confusion_matrix(y_test, prediction_dt)\n",
    "sns.heatmap(cmdt,annot=True,fmt='g',cmap=\"Blues\")\n",
    "plt.title(\"Decision Tree Confusion Matrix\")\n",
    "plt.xlabel(\"Predict\")\n",
    "plt.ylabel(\"Real\")\n",
    "plt.show()"
   ]
  },
  {
   "cell_type": "code",
   "execution_count": 67,
   "id": "0fe771c2",
   "metadata": {},
   "outputs": [
    {
     "name": "stdout",
     "output_type": "stream",
     "text": [
      "[0.90510949 0.94160584 0.94160584 0.89781022 0.93430657 0.94852941\n",
      " 0.96323529 0.90441176 0.93382353 0.94117647]\n",
      "0.9311614426792614\n"
     ]
    }
   ],
   "source": [
    "# Random Forest \n",
    "rf = RandomForestClassifier(random_state = 1)\n",
    "cv_rf = cross_val_score(rf,scaled_X_train,y_train,cv=10)\n",
    "print(cv_rf)\n",
    "print(cv_rf.mean())"
   ]
  },
  {
   "cell_type": "code",
   "execution_count": 68,
   "id": "15c03ec7",
   "metadata": {},
   "outputs": [
    {
     "data": {
      "text/plain": [
       "RandomForestClassifier(random_state=1)"
      ]
     },
     "execution_count": 68,
     "metadata": {},
     "output_type": "execute_result"
    }
   ],
   "source": [
    "rf.fit(scaled_X_train,y_train)"
   ]
  },
  {
   "cell_type": "code",
   "execution_count": 69,
   "id": "e7bc59db",
   "metadata": {},
   "outputs": [
    {
     "name": "stdout",
     "output_type": "stream",
     "text": [
      "Accuracy of Random Forest: 0.94\n"
     ]
    }
   ],
   "source": [
    "prediction_rf = rf.predict(scaled_X_test)\n",
    "print('Accuracy of Random Forest: {:.2f}'.format(rf.score(scaled_X_test,y_test)))"
   ]
  },
  {
   "cell_type": "code",
   "execution_count": 70,
   "id": "bc22fdfa",
   "metadata": {},
   "outputs": [
    {
     "data": {
      "image/png": "[encoded data removed]",
      "text/plain": [
       "<Figure size 432x288 with 2 Axes>"
      ]
     },
     "metadata": {
      "needs_background": "light"
     },
     "output_type": "display_data"
    }
   ],
   "source": [
    "# Confusion Matrix\n",
    "cmrf = confusion_matrix(y_test, prediction_rf)\n",
    "sns.heatmap(cmrf,annot=True,fmt='g',cmap=\"Blues\")\n",
    "plt.title(\"Random Forest Confusion Matrix\")\n",
    "plt.xlabel(\"Predict\")\n",
    "plt.ylabel(\"Real\")\n",
    "plt.show()"
   ]
  },
  {
   "cell_type": "code",
   "execution_count": 71,
   "id": "88a9c769",
   "metadata": {},
   "outputs": [
    {
     "name": "stdout",
     "output_type": "stream",
     "text": [
      "[0.7810219  0.77372263 0.73722628 0.72262774 0.77372263 0.80147059\n",
      " 0.81617647 0.74264706 0.75735294 0.79411765]\n",
      "0.7700085873765565\n"
     ]
    }
   ],
   "source": [
    "# k-nearest neighbors (KNN)\n",
    "knn = KNeighborsClassifier()\n",
    "cv_knn = cross_val_score(knn,scaled_X_train,y_train,cv=10)\n",
    "print(cv_knn)\n",
    "print(cv_knn.mean())"
   ]
  },
  {
   "cell_type": "code",
   "execution_count": 72,
   "id": "40f8a331",
   "metadata": {},
   "outputs": [
    {
     "name": "stdout",
     "output_type": "stream",
     "text": [
      "[0.80291971 0.84671533 0.81021898 0.79562044 0.84671533 0.82352941\n",
      " 0.86764706 0.86764706 0.80882353 0.84558824]\n",
      "0.8315425075139544\n"
     ]
    }
   ],
   "source": [
    "# Support Vector Classifier\n",
    "svc = SVC(probability = True)\n",
    "cv_svc = cross_val_score(svc,scaled_X_train,y_train,cv=10)\n",
    "print(cv_svc)\n",
    "print(cv_svc.mean())"
   ]
  },
  {
   "cell_type": "code",
   "execution_count": 73,
   "id": "3159cb06",
   "metadata": {},
   "outputs": [
    {
     "name": "stdout",
     "output_type": "stream",
     "text": [
      "[[0 1]\n",
      " [3 1]\n",
      " [2 1]\n",
      " ...\n",
      " [1 6]\n",
      " [1 6]\n",
      " [1 6]]\n"
     ]
    }
   ],
   "source": [
    "# K-means: centroids-based clustering\n",
    "X_clust = data_ord_enc.iloc[:, [17,25]].values\n",
    "print(X_clust)"
   ]
  },
  {
   "cell_type": "code",
   "execution_count": 74,
   "id": "594762a8",
   "metadata": {},
   "outputs": [
    {
     "data": {
      "image/png": "[encoded data removed]",
      "text/plain": [
       "<Figure size 720x432 with 1 Axes>"
      ]
     },
     "metadata": {
      "needs_background": "light"
     },
     "output_type": "display_data"
    }
   ],
   "source": [
    "# Elbow Method: is use to find out the number of clusters in K-means\n",
    "wcss = []\n",
    "for i in range(1,11):\n",
    "    kmeans = KMeans(n_clusters = i, init = 'k-means++', random_state = 0)\n",
    "    kmeans.fit(X_clust)\n",
    "    wcss.append(kmeans.inertia_)\n",
    "plt.figure(figsize = (10,6))\n",
    "plt.plot(range(1,11), wcss)\n",
    "plt.xlabel('Numbers of Clusters', fontsize=12)\n",
    "plt.ylabel('WCSS', fontsize=12)\n",
    "plt.title('Elbow Method', fontsize=14)\n",
    "plt.show()"
   ]
  },
  {
   "cell_type": "code",
   "execution_count": 75,
   "id": "312de725",
   "metadata": {},
   "outputs": [
    {
     "name": "stdout",
     "output_type": "stream",
     "text": [
      "[6 2 2 ... 5 5 5]\n"
     ]
    }
   ],
   "source": [
    "k = 7\n",
    "kmeans = KMeans(n_clusters = 7, random_state = 0)\n",
    "pred_k = kmeans.fit_predict(X_clust)\n",
    "print(pred_k)"
   ]
  },
  {
   "cell_type": "code",
   "execution_count": 76,
   "id": "9cbbf3eb",
   "metadata": {},
   "outputs": [
    {
     "data": {
      "image/png": "[encoded data removed]",
      "text/plain": [
       "<Figure size 720x432 with 1 Axes>"
      ]
     },
     "metadata": {
      "needs_background": "light"
     },
     "output_type": "display_data"
    }
   ],
   "source": [
    "plt.figure(figsize = (10,6))\n",
    "sns.scatterplot(data = data_ord_enc, x = 'NObeyesdad', y = 'FAF', hue = pred_k, palette = \"deep\", s = 100)\n",
    "plt.legend(bbox_to_anchor=(1.01, 1),borderaxespad=0)\n",
    "plt.title(\"KMeans\", fontsize=14)\n",
    "plt.show()"
   ]
  },
  {
   "cell_type": "code",
   "execution_count": 77,
   "id": "e4523a4a",
   "metadata": {},
   "outputs": [
    {
     "name": "stdout",
     "output_type": "stream",
     "text": [
      "   Gender  Age  Height  Weight family_history_with_overweight FAVC  FCVC  NCP  \\\n",
      "0  Female   21    1.62      64                            yes   no     2    3   \n",
      "1  Female   21    1.52      56                            yes   no     3    3   \n",
      "2    Male   23    1.80      77                            yes   no     2    3   \n",
      "3    Male   27    1.80      87                             no   no     3    3   \n",
      "4    Male   22    1.78      90                             no   no     2    1   \n",
      "\n",
      "        CAEC SMOKE  CH2O  SCC  FAF  TUE        CALC                 MTRANS  \\\n",
      "0  Sometimes    no     2   no    0    1          no  Public_Transportation   \n",
      "1  Sometimes   yes     3  yes    3    0   Sometimes  Public_Transportation   \n",
      "2  Sometimes    no     2   no    2    1  Frequently  Public_Transportation   \n",
      "3  Sometimes    no     2   no    2    0  Frequently                Walking   \n",
      "4  Sometimes    no     2   no    0    0   Sometimes  Public_Transportation   \n",
      "\n",
      "            NObeyesdad  Cluster  \n",
      "0        Normal_Weight        6  \n",
      "1        Normal_Weight        2  \n",
      "2        Normal_Weight        2  \n",
      "3   Overweight_Level_I        2  \n",
      "4  Overweight_Level_II        4  \n"
     ]
    }
   ],
   "source": [
    "data_kmeans = data_iqr.copy()\n",
    "data_kmeans['Cluster'] = pred_k\n",
    "print(data_kmeans.head())"
   ]
  },
  {
   "cell_type": "code",
   "execution_count": 78,
   "id": "a1709b51",
   "metadata": {},
   "outputs": [
    {
     "name": "stdout",
     "output_type": "stream",
     "text": [
      "      Gender  Age  Height  Weight family_history_with_overweight FAVC  FCVC  \\\n",
      "68      Male   30    1.76     112                            yes  yes     1   \n",
      "202   Female   26    1.56     102                            yes  yes     3   \n",
      "210     Male   20    1.80     114                            yes  yes     2   \n",
      "229     Male   32    1.75     120                            yes   no     3   \n",
      "398     Male   21    1.85     125                            yes  yes     3   \n",
      "...      ...  ...     ...     ...                            ...  ...   ...   \n",
      "2098  Female   26    1.61     105                            yes  yes     3   \n",
      "2099  Female   26    1.63     108                            yes  yes     3   \n",
      "2100  Female   26    1.63     107                            yes  yes     3   \n",
      "2101  Female   26    1.63     107                            yes  yes     3   \n",
      "2102  Female   26    1.63     108                            yes  yes     3   \n",
      "\n",
      "      NCP        CAEC SMOKE  CH2O  SCC  FAF  TUE        CALC  \\\n",
      "68      3          no   yes     2  yes    0    0  Frequently   \n",
      "202     3   Sometimes   yes     1   no    0    1   Sometimes   \n",
      "210     3  Frequently    no     2   no    0    1          no   \n",
      "229     3   Sometimes    no     3   no    0    2          no   \n",
      "398     1      Always    no     1   no    0    0   Sometimes   \n",
      "...   ...         ...   ...   ...  ...  ...  ...         ...   \n",
      "2098    3   Sometimes    no     2   no    0    1   Sometimes   \n",
      "2099    3   Sometimes    no     2   no    0    0   Sometimes   \n",
      "2100    3   Sometimes    no     3   no    0    0   Sometimes   \n",
      "2101    3   Sometimes    no     2   no    0    0   Sometimes   \n",
      "2102    3   Sometimes    no     2   no    0    0   Sometimes   \n",
      "\n",
      "                     MTRANS        NObeyesdad  Cluster  \n",
      "68               Automobile   Obesity_Type_II        0  \n",
      "202   Public_Transportation  Obesity_Type_III        0  \n",
      "210   Public_Transportation   Obesity_Type_II        0  \n",
      "229              Automobile   Obesity_Type_II        0  \n",
      "398   Public_Transportation   Obesity_Type_II        0  \n",
      "...                     ...               ...      ...  \n",
      "2098  Public_Transportation  Obesity_Type_III        0  \n",
      "2099  Public_Transportation  Obesity_Type_III        0  \n",
      "2100  Public_Transportation  Obesity_Type_III        0  \n",
      "2101  Public_Transportation  Obesity_Type_III        0  \n",
      "2102  Public_Transportation  Obesity_Type_III        0  \n",
      "\n",
      "[250 rows x 18 columns]\n"
     ]
    }
   ],
   "source": [
    "boolArray = data_kmeans['Cluster'] == 0\n",
    "print(data_kmeans[boolArray])"
   ]
  },
  {
   "cell_type": "code",
   "execution_count": 79,
   "id": "0789c03e",
   "metadata": {},
   "outputs": [
    {
     "name": "stdout",
     "output_type": "stream",
     "text": [
      "The Silhouette_Score of K-means is: 0.49\n"
     ]
    }
   ],
   "source": [
    "# Performance Metrics\n",
    "kmeans_metrics = silhouette_score(X_clust, kmeans.labels_, metric = 'euclidean')\n",
    "print('The Silhouette_Score of K-means is: {:0.2f}'.format(kmeans_metrics))"
   ]
  },
  {
   "cell_type": "code",
   "execution_count": 80,
   "id": "8179a5cf",
   "metadata": {},
   "outputs": [
    {
     "data": {
      "image/png": "[encoded data removed]",
      "text/plain": [
       "<Figure size 720x432 with 1 Axes>"
      ]
     },
     "metadata": {
      "needs_background": "light"
     },
     "output_type": "display_data"
    }
   ],
   "source": [
    "# Agglomerative Hierarchical\n",
    "# Dendrogram method\n",
    "plt.figure(figsize = (10,6))\n",
    "hc = sch.dendrogram(sch.linkage(X_clust, method = 'ward'))\n",
    "plt.title('Dendrogram', fontsize=14)\n",
    "plt.xlabel('Sample', fontsize=12)\n",
    "plt.ylabel('Euclidean Distances', fontsize=12)\n",
    "plt.show()"
   ]
  },
  {
   "cell_type": "code",
   "execution_count": 81,
   "id": "737377a0",
   "metadata": {},
   "outputs": [],
   "source": [
    "hc = AgglomerativeClustering(n_clusters = 2, affinity = 'euclidean', linkage = 'ward' )\n",
    "pred_h = hc.fit_predict(X_clust)"
   ]
  },
  {
   "cell_type": "code",
   "execution_count": 82,
   "id": "9a6624ba",
   "metadata": {},
   "outputs": [
    {
     "data": {
      "image/png": "[encoded data removed]",
      "text/plain": [
       "<Figure size 720x432 with 1 Axes>"
      ]
     },
     "metadata": {
      "needs_background": "light"
     },
     "output_type": "display_data"
    }
   ],
   "source": [
    "plt.figure(figsize = (10,6))\n",
    "sns.scatterplot(data = data_ord_enc, x = 'NObeyesdad', y = 'FAF', hue = pred_h, palette = \"deep\", s = 100)\n",
    "plt.legend(bbox_to_anchor=(1.01, 1),borderaxespad=0)\n",
    "plt.title(\"Hierarchical\", fontsize=12)\n",
    "plt.show()"
   ]
  },
  {
   "cell_type": "code",
   "execution_count": 83,
   "id": "202c096c",
   "metadata": {},
   "outputs": [
    {
     "name": "stdout",
     "output_type": "stream",
     "text": [
      "   Gender  Age  Height  Weight family_history_with_overweight FAVC  FCVC  NCP  \\\n",
      "0  Female   21    1.62      64                            yes   no     2    3   \n",
      "1  Female   21    1.52      56                            yes   no     3    3   \n",
      "2    Male   23    1.80      77                            yes   no     2    3   \n",
      "3    Male   27    1.80      87                             no   no     3    3   \n",
      "4    Male   22    1.78      90                             no   no     2    1   \n",
      "\n",
      "        CAEC SMOKE  CH2O  SCC  FAF  TUE        CALC                 MTRANS  \\\n",
      "0  Sometimes    no     2   no    0    1          no  Public_Transportation   \n",
      "1  Sometimes   yes     3  yes    3    0   Sometimes  Public_Transportation   \n",
      "2  Sometimes    no     2   no    2    1  Frequently  Public_Transportation   \n",
      "3  Sometimes    no     2   no    2    0  Frequently                Walking   \n",
      "4  Sometimes    no     2   no    0    0   Sometimes  Public_Transportation   \n",
      "\n",
      "            NObeyesdad  Cluster  \n",
      "0        Normal_Weight        0  \n",
      "1        Normal_Weight        0  \n",
      "2        Normal_Weight        0  \n",
      "3   Overweight_Level_I        0  \n",
      "4  Overweight_Level_II        0  \n"
     ]
    }
   ],
   "source": [
    "data_hc = data_iqr.copy()\n",
    "data_hc['Cluster'] = pred_h\n",
    "print(data_hc.head())"
   ]
  },
  {
   "cell_type": "code",
   "execution_count": 84,
   "id": "816d3c01",
   "metadata": {},
   "outputs": [
    {
     "name": "stdout",
     "output_type": "stream",
     "text": [
      "      Gender  Age  Height  Weight family_history_with_overweight FAVC  FCVC  \\\n",
      "17    Female   29    1.53      78                             no  yes     2   \n",
      "23    Female   22    1.60      82                            yes  yes     1   \n",
      "67      Male   23    1.65      95                            yes  yes     2   \n",
      "68      Male   30    1.76     112                            yes  yes     1   \n",
      "78    Female   23    1.65      90                            yes  yes     2   \n",
      "...      ...  ...     ...     ...                            ...  ...   ...   \n",
      "2106  Female   21    1.71     131                            yes  yes     3   \n",
      "2107  Female   22    1.75     134                            yes  yes     3   \n",
      "2108  Female   23    1.75     134                            yes  yes     3   \n",
      "2109  Female   24    1.74     133                            yes  yes     3   \n",
      "2110  Female   24    1.74     133                            yes  yes     3   \n",
      "\n",
      "      NCP       CAEC SMOKE  CH2O  SCC  FAF  TUE        CALC  \\\n",
      "17      1  Sometimes    no     2   no    0    0          no   \n",
      "23      1  Sometimes    no     2   no    0    2   Sometimes   \n",
      "67      3     Always    no     2   no    0    1  Frequently   \n",
      "68      3         no   yes     2  yes    0    0  Frequently   \n",
      "78      3  Sometimes    no     3   no    0    1          no   \n",
      "...   ...        ...   ...   ...  ...  ...  ...         ...   \n",
      "2106    3  Sometimes    no     2   no    2    1   Sometimes   \n",
      "2107    3  Sometimes    no     2   no    1    1   Sometimes   \n",
      "2108    3  Sometimes    no     2   no    1    1   Sometimes   \n",
      "2109    3  Sometimes    no     3   no    1    1   Sometimes   \n",
      "2110    3  Sometimes    no     3   no    1    1   Sometimes   \n",
      "\n",
      "                     MTRANS        NObeyesdad  Cluster  \n",
      "17               Automobile    Obesity_Type_I        1  \n",
      "23    Public_Transportation    Obesity_Type_I        1  \n",
      "67               Automobile    Obesity_Type_I        1  \n",
      "68               Automobile   Obesity_Type_II        1  \n",
      "78    Public_Transportation    Obesity_Type_I        1  \n",
      "...                     ...               ...      ...  \n",
      "2106  Public_Transportation  Obesity_Type_III        1  \n",
      "2107  Public_Transportation  Obesity_Type_III        1  \n",
      "2108  Public_Transportation  Obesity_Type_III        1  \n",
      "2109  Public_Transportation  Obesity_Type_III        1  \n",
      "2110  Public_Transportation  Obesity_Type_III        1  \n",
      "\n",
      "[686 rows x 18 columns]\n"
     ]
    }
   ],
   "source": [
    "boolArrayhc = data_hc['Cluster'] == 1\n",
    "print(data_hc[boolArrayhc])"
   ]
  },
  {
   "cell_type": "code",
   "execution_count": 85,
   "id": "903770df",
   "metadata": {},
   "outputs": [
    {
     "name": "stdout",
     "output_type": "stream",
     "text": [
      "The Silhouette_Score of Hierarchical is: 0.47\n"
     ]
    }
   ],
   "source": [
    "# Performance Metrics\n",
    "hc_metrics = silhouette_score(X_clust, hc.labels_, metric = 'euclidean')\n",
    "print('The Silhouette_Score of Hierarchical is: {:0.2f}'.format(hc_metrics))"
   ]
  },
  {
   "cell_type": "code",
   "execution_count": 86,
   "id": "6bff6559",
   "metadata": {},
   "outputs": [
    {
     "name": "stdout",
     "output_type": "stream",
     "text": [
      "[ 0  1  2 ... 24 24 24]\n"
     ]
    }
   ],
   "source": [
    "# DBSCAN\n",
    "# Various values of eps and min_samples were tested and the values that gave the best silhouette score result were eps = .5 and min_samples = 15\n",
    "dbscan = DBSCAN(eps = .5, min_samples = 15)\n",
    "dbscan.fit(X_clust)\n",
    "pred_d = dbscan.labels_\n",
    "print(pred_d)"
   ]
  },
  {
   "cell_type": "code",
   "execution_count": 87,
   "id": "80f4a806",
   "metadata": {},
   "outputs": [
    {
     "data": {
      "image/png": "[encoded data removed]",
      "text/plain": [
       "<Figure size 1488.75x720 with 1 Axes>"
      ]
     },
     "metadata": {
      "needs_background": "light"
     },
     "output_type": "display_data"
    }
   ],
   "source": [
    "sns.relplot(x = 'NObeyesdad', y = 'FAF', hue = pred_d, data = data_ord_enc, palette = [\"black\", \"dimgray\", \"bisque\", \"darkorange\", \"burlywood\", \n",
    "\"forestgreen\", \"limegreen\", \"darkgreen\", \"slategrey\", \"lightsteelblue\", \"cornflowerblue\", \"rosybrown\", \"lightcoral\", \"indianred\", \"darkgoldenrod\",\n",
    "\"goldenrod\", \"cornsilk\", \"lightseagreen\", \"mediumturquoise\", \"darkslategray\", \"mediumpurple\", \"rebeccapurple\", \"blueviolet\", \"palevioletred\", \"crimson\",\n",
    "\"pink\"], s = 100, height=10,aspect=2)\n",
    "plt.title(\"DBSCAN\", fontsize=14)\n",
    "plt.show()"
   ]
  },
  {
   "cell_type": "code",
   "execution_count": 88,
   "id": "5b242dd3",
   "metadata": {},
   "outputs": [
    {
     "name": "stdout",
     "output_type": "stream",
     "text": [
      "   Gender  Age  Height  Weight family_history_with_overweight FAVC  FCVC  NCP  \\\n",
      "0  Female   21    1.62      64                            yes   no     2    3   \n",
      "1  Female   21    1.52      56                            yes   no     3    3   \n",
      "2    Male   23    1.80      77                            yes   no     2    3   \n",
      "3    Male   27    1.80      87                             no   no     3    3   \n",
      "4    Male   22    1.78      90                             no   no     2    1   \n",
      "\n",
      "        CAEC SMOKE  CH2O  SCC  FAF  TUE        CALC                 MTRANS  \\\n",
      "0  Sometimes    no     2   no    0    1          no  Public_Transportation   \n",
      "1  Sometimes   yes     3  yes    3    0   Sometimes  Public_Transportation   \n",
      "2  Sometimes    no     2   no    2    1  Frequently  Public_Transportation   \n",
      "3  Sometimes    no     2   no    2    0  Frequently                Walking   \n",
      "4  Sometimes    no     2   no    0    0   Sometimes  Public_Transportation   \n",
      "\n",
      "            NObeyesdad  Cluster  \n",
      "0        Normal_Weight        0  \n",
      "1        Normal_Weight        1  \n",
      "2        Normal_Weight        2  \n",
      "3   Overweight_Level_I        3  \n",
      "4  Overweight_Level_II        4  \n"
     ]
    }
   ],
   "source": [
    "data_d = data_iqr.copy()\n",
    "data_d['Cluster'] = pred_d\n",
    "print(data_d.head())"
   ]
  },
  {
   "cell_type": "code",
   "execution_count": 89,
   "id": "a12cf120",
   "metadata": {},
   "outputs": [
    {
     "name": "stdout",
     "output_type": "stream",
     "text": [
      "      Gender  Age  Height  Weight family_history_with_overweight FAVC  FCVC  \\\n",
      "202   Female   26    1.56     102                            yes  yes     3   \n",
      "403   Female   26    1.66     112                            yes   no     3   \n",
      "498   Female   25    1.69     105                            yes  yes     3   \n",
      "500   Female   26    1.62     111                            yes  yes     3   \n",
      "502   Female   22    1.84     165                            yes  yes     3   \n",
      "...      ...  ...     ...     ...                            ...  ...   ...   \n",
      "2098  Female   26    1.61     105                            yes  yes     3   \n",
      "2099  Female   26    1.63     108                            yes  yes     3   \n",
      "2100  Female   26    1.63     107                            yes  yes     3   \n",
      "2101  Female   26    1.63     107                            yes  yes     3   \n",
      "2102  Female   26    1.63     108                            yes  yes     3   \n",
      "\n",
      "      NCP       CAEC SMOKE  CH2O SCC  FAF  TUE       CALC  \\\n",
      "202     3  Sometimes   yes     1  no    0    1  Sometimes   \n",
      "403     3  Sometimes    no     3  no    0    0         no   \n",
      "498     3  Sometimes    no     1  no    0    1  Sometimes   \n",
      "500     3  Sometimes    no     3  no    0    0  Sometimes   \n",
      "502     3  Sometimes    no     2  no    0    0  Sometimes   \n",
      "...   ...        ...   ...   ...  ..  ...  ...        ...   \n",
      "2098    3  Sometimes    no     2  no    0    1  Sometimes   \n",
      "2099    3  Sometimes    no     2  no    0    0  Sometimes   \n",
      "2100    3  Sometimes    no     3  no    0    0  Sometimes   \n",
      "2101    3  Sometimes    no     2  no    0    0  Sometimes   \n",
      "2102    3  Sometimes    no     2  no    0    0  Sometimes   \n",
      "\n",
      "                     MTRANS        NObeyesdad  Cluster  \n",
      "202   Public_Transportation  Obesity_Type_III       22  \n",
      "403              Automobile  Obesity_Type_III       22  \n",
      "498   Public_Transportation  Obesity_Type_III       22  \n",
      "500   Public_Transportation  Obesity_Type_III       22  \n",
      "502   Public_Transportation  Obesity_Type_III       22  \n",
      "...                     ...               ...      ...  \n",
      "2098  Public_Transportation  Obesity_Type_III       22  \n",
      "2099  Public_Transportation  Obesity_Type_III       22  \n",
      "2100  Public_Transportation  Obesity_Type_III       22  \n",
      "2101  Public_Transportation  Obesity_Type_III       22  \n",
      "2102  Public_Transportation  Obesity_Type_III       22  \n",
      "\n",
      "[187 rows x 18 columns]\n"
     ]
    }
   ],
   "source": [
    "boolArraydb = data_d['Cluster'] == 22\n",
    "print(data_d[boolArraydb])"
   ]
  },
  {
   "cell_type": "code",
   "execution_count": 90,
   "id": "03755bda",
   "metadata": {},
   "outputs": [
    {
     "name": "stdout",
     "output_type": "stream",
     "text": [
      "The Silhouette_Score of DBSCAN is: 1.00\n"
     ]
    }
   ],
   "source": [
    "# Performance Metrics\n",
    "dbscan_metrics = silhouette_score(X_clust, dbscan.labels_, metric = 'euclidean')\n",
    "print('The Silhouette_Score of DBSCAN is: {:0.2f}'.format(dbscan_metrics))"
   ]
  },
  {
   "cell_type": "markdown",
   "id": "9b0951b8",
   "metadata": {},
   "source": [
    "DBSCAN had the best performance among the clustering algorithms, with Silhouette Score = 1. And as you can see above, it grouped people with the highest level of NObeyesdad (Obesity_Type_III) and the lowest level of FAF (0), in a total of 187 people."
   ]
  }
 ],
 "metadata": {
  "kernelspec": {
   "display_name": "Python 3 (ipykernel)",
   "language": "python",
   "name": "python3"
  },
  "language_info": {
   "codemirror_mode": {
    "name": "ipython",
    "version": 3
   },
   "file_extension": ".py",
   "mimetype": "text/x-python",
   "name": "python",
   "nbconvert_exporter": "python",
   "pygments_lexer": "ipython3",
   "version": "3.9.12"
  }
 },
 "nbformat": 4,
 "nbformat_minor": 5
}
